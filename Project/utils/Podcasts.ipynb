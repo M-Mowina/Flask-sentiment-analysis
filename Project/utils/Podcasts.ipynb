{
 "cells": [
  {
   "cell_type": "markdown",
   "metadata": {},
   "source": [
    "# Imports"
   ]
  },
  {
   "cell_type": "code",
   "execution_count": 1,
   "metadata": {},
   "outputs": [],
   "source": [
    "# DataFrame\n",
    "import pandas as pd \n",
    "\n",
    "# plotting\n",
    "import seaborn as sns\n",
    "import matplotlib.pyplot as plt\n",
    "\n",
    "# nltk\n",
    "import nltk\n",
    "from nltk.stem import WordNetLemmatizer\n",
    "from nltk.corpus import stopwords\n",
    "from nltk.tokenize import word_tokenize\n",
    "\n",
    "# sklearn\n",
    "from sklearn.model_selection import train_test_split\n",
    "from sklearn.feature_extraction.text import TfidfVectorizer\n",
    "from sklearn.metrics import confusion_matrix, classification_report\n",
    "\n",
    "from sklearn.svm import SVC\n",
    "from sklearn.linear_model import LogisticRegression\n",
    "from sklearn.svm import LinearSVC\n",
    "from sklearn.ensemble import RandomForestClassifier\n",
    "from sklearn.naive_bayes import BernoulliNB\n",
    "\n",
    "\n",
    "\n",
    "# Utility\n",
    "import pandas as pd\n",
    "import numpy as np \n",
    "import warnings\n",
    "warnings.filterwarnings('ignore')\n",
    "import re\n",
    "import string\n",
    "import pickle"
   ]
  },
  {
   "cell_type": "markdown",
   "metadata": {},
   "source": [
    "# Reading the Dataset"
   ]
  },
  {
   "cell_type": "code",
   "execution_count": 2,
   "metadata": {},
   "outputs": [],
   "source": [
    "with pd.read_json('data//Podcast reviews//reviews.json', lines=True, chunksize=100000) as chunks:\n",
    "    df = pd.DataFrame()  # Initialize an empty DataFrame outside the loop\n",
    "    for chunk in chunks:\n",
    "        df = pd.concat([df, chunk])  # Concatenate each chunk to the existing df\n"
   ]
  },
  {
   "cell_type": "code",
   "execution_count": 3,
   "metadata": {},
   "outputs": [
    {
     "name": "stdout",
     "output_type": "stream",
     "text": [
      "<class 'pandas.core.frame.DataFrame'>\n",
      "RangeIndex: 5607021 entries, 0 to 5607020\n",
      "Data columns (total 6 columns):\n",
      " #   Column      Dtype              \n",
      "---  ------      -----              \n",
      " 0   podcast_id  object             \n",
      " 1   title       object             \n",
      " 2   content     object             \n",
      " 3   rating      int64              \n",
      " 4   author_id   object             \n",
      " 5   created_at  datetime64[ns, UTC]\n",
      "dtypes: datetime64[ns, UTC](1), int64(1), object(4)\n",
      "memory usage: 256.7+ MB\n"
     ]
    }
   ],
   "source": [
    "df.info()"
   ]
  },
  {
   "cell_type": "markdown",
   "metadata": {},
   "source": [
    "# Adjusting the dataset for Binary Classification"
   ]
  },
  {
   "cell_type": "code",
   "execution_count": 7,
   "metadata": {},
   "outputs": [],
   "source": [
    "df.loc[df['rating'] == 2, 'rating'] = 1"
   ]
  },
  {
   "cell_type": "code",
   "execution_count": 9,
   "metadata": {},
   "outputs": [
    {
     "data": {
      "text/plain": [
       "419142"
      ]
     },
     "execution_count": 9,
     "metadata": {},
     "output_type": "execute_result"
    }
   ],
   "source": [
    "df[df['rating'] == 1].shape[0]"
   ]
  },
  {
   "cell_type": "code",
   "execution_count": 10,
   "metadata": {},
   "outputs": [
    {
     "data": {
      "text/html": [
       "<div>\n",
       "<style scoped>\n",
       "    .dataframe tbody tr th:only-of-type {\n",
       "        vertical-align: middle;\n",
       "    }\n",
       "\n",
       "    .dataframe tbody tr th {\n",
       "        vertical-align: top;\n",
       "    }\n",
       "\n",
       "    .dataframe thead th {\n",
       "        text-align: right;\n",
       "    }\n",
       "</style>\n",
       "<table border=\"1\" class=\"dataframe\">\n",
       "  <thead>\n",
       "    <tr style=\"text-align: right;\">\n",
       "      <th></th>\n",
       "      <th>podcast_id</th>\n",
       "      <th>title</th>\n",
       "      <th>content</th>\n",
       "      <th>rating</th>\n",
       "      <th>author_id</th>\n",
       "      <th>created_at</th>\n",
       "    </tr>\n",
       "  </thead>\n",
       "  <tbody>\n",
       "    <tr>\n",
       "      <th>0</th>\n",
       "      <td>52e3d2c4fab4e80a8bb75ad144671d96</td>\n",
       "      <td>Argh</td>\n",
       "      <td>What the heck is this show? And why can’t I de...</td>\n",
       "      <td>1</td>\n",
       "      <td>a23655ce5565f32</td>\n",
       "      <td>2019-05-01 01:24:01+00:00</td>\n",
       "    </tr>\n",
       "    <tr>\n",
       "      <th>1</th>\n",
       "      <td>52e3d2c4fab4e80a8bb75ad144671d96</td>\n",
       "      <td>Miss gross overrated as interviewer.</td>\n",
       "      <td>The Howard stern interview was horrible. I lea...</td>\n",
       "      <td>1</td>\n",
       "      <td>e5d461c5f91c8d2</td>\n",
       "      <td>2019-06-07 14:25:34+00:00</td>\n",
       "    </tr>\n",
       "    <tr>\n",
       "      <th>7</th>\n",
       "      <td>52e3d2c4fab4e80a8bb75ad144671d96</td>\n",
       "      <td>Abrasive, tone-deaf Terry</td>\n",
       "      <td>Someone please sit this woman down and recalib...</td>\n",
       "      <td>1</td>\n",
       "      <td>92fccd361c71fd6</td>\n",
       "      <td>2019-04-01 14:32:56+00:00</td>\n",
       "    </tr>\n",
       "    <tr>\n",
       "      <th>10</th>\n",
       "      <td>52e3d2c4fab4e80a8bb75ad144671d96</td>\n",
       "      <td>Howard Stern Pt 2</td>\n",
       "      <td>Tired of the interviews of guys who brought us...</td>\n",
       "      <td>1</td>\n",
       "      <td>d92f7a67d9566f2</td>\n",
       "      <td>2019-05-15 21:27:21+00:00</td>\n",
       "    </tr>\n",
       "    <tr>\n",
       "      <th>14</th>\n",
       "      <td>52e3d2c4fab4e80a8bb75ad144671d96</td>\n",
       "      <td>General</td>\n",
       "      <td>When will your inept IT group fix the problem....</td>\n",
       "      <td>1</td>\n",
       "      <td>c4031bc7780f013</td>\n",
       "      <td>2019-05-12 02:32:43+00:00</td>\n",
       "    </tr>\n",
       "  </tbody>\n",
       "</table>\n",
       "</div>"
      ],
      "text/plain": [
       "                          podcast_id                                 title  \\\n",
       "0   52e3d2c4fab4e80a8bb75ad144671d96                                  Argh   \n",
       "1   52e3d2c4fab4e80a8bb75ad144671d96  Miss gross overrated as interviewer.   \n",
       "7   52e3d2c4fab4e80a8bb75ad144671d96             Abrasive, tone-deaf Terry   \n",
       "10  52e3d2c4fab4e80a8bb75ad144671d96                     Howard Stern Pt 2   \n",
       "14  52e3d2c4fab4e80a8bb75ad144671d96                               General   \n",
       "\n",
       "                                              content  rating  \\\n",
       "0   What the heck is this show? And why can’t I de...       1   \n",
       "1   The Howard stern interview was horrible. I lea...       1   \n",
       "7   Someone please sit this woman down and recalib...       1   \n",
       "10  Tired of the interviews of guys who brought us...       1   \n",
       "14  When will your inept IT group fix the problem....       1   \n",
       "\n",
       "          author_id                created_at  \n",
       "0   a23655ce5565f32 2019-05-01 01:24:01+00:00  \n",
       "1   e5d461c5f91c8d2 2019-06-07 14:25:34+00:00  \n",
       "7   92fccd361c71fd6 2019-04-01 14:32:56+00:00  \n",
       "10  d92f7a67d9566f2 2019-05-15 21:27:21+00:00  \n",
       "14  c4031bc7780f013 2019-05-12 02:32:43+00:00  "
      ]
     },
     "execution_count": 10,
     "metadata": {},
     "output_type": "execute_result"
    }
   ],
   "source": [
    "df[df['rating'] == 1].head()"
   ]
  },
  {
   "cell_type": "code",
   "execution_count": 12,
   "metadata": {},
   "outputs": [],
   "source": [
    "# Drop rows where rating is 3 or 4\n",
    "df = df.drop(df[df['rating'].isin([3, 4])].index)"
   ]
  },
  {
   "cell_type": "code",
   "execution_count": 14,
   "metadata": {},
   "outputs": [],
   "source": [
    "df_5 = df[df['rating'] == 5]"
   ]
  },
  {
   "cell_type": "code",
   "execution_count": 15,
   "metadata": {},
   "outputs": [],
   "source": [
    "df_5 = df_5.sample(500000)"
   ]
  },
  {
   "cell_type": "code",
   "execution_count": 16,
   "metadata": {},
   "outputs": [],
   "source": [
    "df = df.drop(df[df['rating'].isin([5])].index)"
   ]
  },
  {
   "cell_type": "code",
   "execution_count": 18,
   "metadata": {},
   "outputs": [],
   "source": [
    "df = pd.concat([df_5, df], ignore_index=True)"
   ]
  },
  {
   "cell_type": "code",
   "execution_count": 20,
   "metadata": {},
   "outputs": [
    {
     "data": {
      "text/html": [
       "<div>\n",
       "<style scoped>\n",
       "    .dataframe tbody tr th:only-of-type {\n",
       "        vertical-align: middle;\n",
       "    }\n",
       "\n",
       "    .dataframe tbody tr th {\n",
       "        vertical-align: top;\n",
       "    }\n",
       "\n",
       "    .dataframe thead th {\n",
       "        text-align: right;\n",
       "    }\n",
       "</style>\n",
       "<table border=\"1\" class=\"dataframe\">\n",
       "  <thead>\n",
       "    <tr style=\"text-align: right;\">\n",
       "      <th></th>\n",
       "      <th>podcast_id</th>\n",
       "      <th>title</th>\n",
       "      <th>content</th>\n",
       "      <th>rating</th>\n",
       "      <th>author_id</th>\n",
       "      <th>created_at</th>\n",
       "    </tr>\n",
       "  </thead>\n",
       "  <tbody>\n",
       "    <tr>\n",
       "      <th>0</th>\n",
       "      <td>b0a0abf802c7631dd5c4d75bc9141cd0</td>\n",
       "      <td>Finally the podcast for 1%ers</td>\n",
       "      <td>Been waiting a long time for this podcast to c...</td>\n",
       "      <td>5</td>\n",
       "      <td>35ec5c3cd948e8f</td>\n",
       "      <td>2019-04-24 00:33:49+00:00</td>\n",
       "    </tr>\n",
       "    <tr>\n",
       "      <th>1</th>\n",
       "      <td>79780b09488750d44c2f6f1428c068e1</td>\n",
       "      <td>I love you Chris</td>\n",
       "      <td>I am genuinely emotional, brought to crocodile...</td>\n",
       "      <td>5</td>\n",
       "      <td>95b83b2833936d4</td>\n",
       "      <td>2020-11-11 09:27:22+00:00</td>\n",
       "    </tr>\n",
       "    <tr>\n",
       "      <th>2</th>\n",
       "      <td>7e5cc52ff9d4f2169563236e7df4f2c8</td>\n",
       "      <td>So fetch.</td>\n",
       "      <td>I saw Art History Babes podcast wearing army p...</td>\n",
       "      <td>5</td>\n",
       "      <td>be2b14f03f6bc28</td>\n",
       "      <td>2017-12-27 15:20:17+00:00</td>\n",
       "    </tr>\n",
       "    <tr>\n",
       "      <th>3</th>\n",
       "      <td>08d5001ce986c73b717305fd37f4d889</td>\n",
       "      <td>GREAT HUNTING PODCAST</td>\n",
       "      <td>My go to whitetail podcast. Only negative is I...</td>\n",
       "      <td>5</td>\n",
       "      <td>2d6cff00dc5429f</td>\n",
       "      <td>2022-08-11 10:32:34+00:00</td>\n",
       "    </tr>\n",
       "    <tr>\n",
       "      <th>4</th>\n",
       "      <td>fe931e874e5b65db34a62ba03e239c0f</td>\n",
       "      <td>Can’t get enough!!</td>\n",
       "      <td>I am so glad to be a card carrying 1159 Patreo...</td>\n",
       "      <td>5</td>\n",
       "      <td>85ff9432e650b0e</td>\n",
       "      <td>2022-10-31 18:49:13+00:00</td>\n",
       "    </tr>\n",
       "  </tbody>\n",
       "</table>\n",
       "</div>"
      ],
      "text/plain": [
       "                         podcast_id                          title  \\\n",
       "0  b0a0abf802c7631dd5c4d75bc9141cd0  Finally the podcast for 1%ers   \n",
       "1  79780b09488750d44c2f6f1428c068e1               I love you Chris   \n",
       "2  7e5cc52ff9d4f2169563236e7df4f2c8                      So fetch.   \n",
       "3  08d5001ce986c73b717305fd37f4d889          GREAT HUNTING PODCAST   \n",
       "4  fe931e874e5b65db34a62ba03e239c0f             Can’t get enough!!   \n",
       "\n",
       "                                             content  rating        author_id  \\\n",
       "0  Been waiting a long time for this podcast to c...       5  35ec5c3cd948e8f   \n",
       "1  I am genuinely emotional, brought to crocodile...       5  95b83b2833936d4   \n",
       "2  I saw Art History Babes podcast wearing army p...       5  be2b14f03f6bc28   \n",
       "3  My go to whitetail podcast. Only negative is I...       5  2d6cff00dc5429f   \n",
       "4  I am so glad to be a card carrying 1159 Patreo...       5  85ff9432e650b0e   \n",
       "\n",
       "                 created_at  \n",
       "0 2019-04-24 00:33:49+00:00  \n",
       "1 2020-11-11 09:27:22+00:00  \n",
       "2 2017-12-27 15:20:17+00:00  \n",
       "3 2022-08-11 10:32:34+00:00  \n",
       "4 2022-10-31 18:49:13+00:00  "
      ]
     },
     "execution_count": 20,
     "metadata": {},
     "output_type": "execute_result"
    }
   ],
   "source": [
    "df.head()"
   ]
  },
  {
   "cell_type": "code",
   "execution_count": 21,
   "metadata": {},
   "outputs": [],
   "source": [
    "df['rating'] = df['rating'].replace({1: 0, 5: 1})"
   ]
  },
  {
   "cell_type": "code",
   "execution_count": 22,
   "metadata": {},
   "outputs": [
    {
     "data": {
      "image/png": "[encoded data removed]",
      "text/plain": [
       "<Figure size 600x400 with 1 Axes>"
      ]
     },
     "metadata": {},
     "output_type": "display_data"
    }
   ],
   "source": [
    "ax = df['rating'].value_counts().sort_index() \\\n",
    "    .plot(kind='bar',\n",
    "          title='Count of Reviews For each lapel',\n",
    "          figsize=(6, 4))\n",
    "ax.set_xlabel('Sentiment lapel')\n",
    "plt.show()"
   ]
  },
  {
   "cell_type": "code",
   "execution_count": 23,
   "metadata": {},
   "outputs": [
    {
     "data": {
      "text/html": [
       "<div>\n",
       "<style scoped>\n",
       "    .dataframe tbody tr th:only-of-type {\n",
       "        vertical-align: middle;\n",
       "    }\n",
       "\n",
       "    .dataframe tbody tr th {\n",
       "        vertical-align: top;\n",
       "    }\n",
       "\n",
       "    .dataframe thead th {\n",
       "        text-align: right;\n",
       "    }\n",
       "</style>\n",
       "<table border=\"1\" class=\"dataframe\">\n",
       "  <thead>\n",
       "    <tr style=\"text-align: right;\">\n",
       "      <th></th>\n",
       "      <th>title</th>\n",
       "      <th>content</th>\n",
       "      <th>rating</th>\n",
       "    </tr>\n",
       "  </thead>\n",
       "  <tbody>\n",
       "    <tr>\n",
       "      <th>0</th>\n",
       "      <td>Finally the podcast for 1%ers</td>\n",
       "      <td>Been waiting a long time for this podcast to c...</td>\n",
       "      <td>1</td>\n",
       "    </tr>\n",
       "    <tr>\n",
       "      <th>1</th>\n",
       "      <td>I love you Chris</td>\n",
       "      <td>I am genuinely emotional, brought to crocodile...</td>\n",
       "      <td>1</td>\n",
       "    </tr>\n",
       "    <tr>\n",
       "      <th>2</th>\n",
       "      <td>So fetch.</td>\n",
       "      <td>I saw Art History Babes podcast wearing army p...</td>\n",
       "      <td>1</td>\n",
       "    </tr>\n",
       "    <tr>\n",
       "      <th>3</th>\n",
       "      <td>GREAT HUNTING PODCAST</td>\n",
       "      <td>My go to whitetail podcast. Only negative is I...</td>\n",
       "      <td>1</td>\n",
       "    </tr>\n",
       "    <tr>\n",
       "      <th>4</th>\n",
       "      <td>Can’t get enough!!</td>\n",
       "      <td>I am so glad to be a card carrying 1159 Patreo...</td>\n",
       "      <td>1</td>\n",
       "    </tr>\n",
       "  </tbody>\n",
       "</table>\n",
       "</div>"
      ],
      "text/plain": [
       "                           title  \\\n",
       "0  Finally the podcast for 1%ers   \n",
       "1               I love you Chris   \n",
       "2                      So fetch.   \n",
       "3          GREAT HUNTING PODCAST   \n",
       "4             Can’t get enough!!   \n",
       "\n",
       "                                             content  rating  \n",
       "0  Been waiting a long time for this podcast to c...       1  \n",
       "1  I am genuinely emotional, brought to crocodile...       1  \n",
       "2  I saw Art History Babes podcast wearing army p...       1  \n",
       "3  My go to whitetail podcast. Only negative is I...       1  \n",
       "4  I am so glad to be a card carrying 1159 Patreo...       1  "
      ]
     },
     "execution_count": 23,
     "metadata": {},
     "output_type": "execute_result"
    }
   ],
   "source": [
    "df = df.drop(['podcast_id', 'author_id', 'created_at'], axis=1)\n",
    "df.head()"
   ]
  },
  {
   "cell_type": "code",
   "execution_count": 28,
   "metadata": {},
   "outputs": [
    {
     "data": {
      "text/html": [
       "<div>\n",
       "<style scoped>\n",
       "    .dataframe tbody tr th:only-of-type {\n",
       "        vertical-align: middle;\n",
       "    }\n",
       "\n",
       "    .dataframe tbody tr th {\n",
       "        vertical-align: top;\n",
       "    }\n",
       "\n",
       "    .dataframe thead th {\n",
       "        text-align: right;\n",
       "    }\n",
       "</style>\n",
       "<table border=\"1\" class=\"dataframe\">\n",
       "  <thead>\n",
       "    <tr style=\"text-align: right;\">\n",
       "      <th></th>\n",
       "      <th>content</th>\n",
       "      <th>rating</th>\n",
       "    </tr>\n",
       "  </thead>\n",
       "  <tbody>\n",
       "    <tr>\n",
       "      <th>0</th>\n",
       "      <td>Finally the podcast for 1%ers</td>\n",
       "      <td>1</td>\n",
       "    </tr>\n",
       "    <tr>\n",
       "      <th>1</th>\n",
       "      <td>I love you Chris</td>\n",
       "      <td>1</td>\n",
       "    </tr>\n",
       "    <tr>\n",
       "      <th>2</th>\n",
       "      <td>So fetch.</td>\n",
       "      <td>1</td>\n",
       "    </tr>\n",
       "    <tr>\n",
       "      <th>3</th>\n",
       "      <td>GREAT HUNTING PODCAST</td>\n",
       "      <td>1</td>\n",
       "    </tr>\n",
       "    <tr>\n",
       "      <th>4</th>\n",
       "      <td>Can’t get enough!!</td>\n",
       "      <td>1</td>\n",
       "    </tr>\n",
       "  </tbody>\n",
       "</table>\n",
       "</div>"
      ],
      "text/plain": [
       "                         content  rating\n",
       "0  Finally the podcast for 1%ers       1\n",
       "1               I love you Chris       1\n",
       "2                      So fetch.       1\n",
       "3          GREAT HUNTING PODCAST       1\n",
       "4             Can’t get enough!!       1"
      ]
     },
     "execution_count": 28,
     "metadata": {},
     "output_type": "execute_result"
    }
   ],
   "source": [
    "df_title = df.drop(['content'], axis=1)\n",
    "df_title = df_title.rename(columns={'title': 'content'})\n",
    "df_title.head()"
   ]
  },
  {
   "cell_type": "code",
   "execution_count": 29,
   "metadata": {},
   "outputs": [],
   "source": [
    "df = pd.concat([df_title, df], ignore_index=True)"
   ]
  },
  {
   "cell_type": "code",
   "execution_count": 32,
   "metadata": {},
   "outputs": [
    {
     "data": {
      "text/html": [
       "<div>\n",
       "<style scoped>\n",
       "    .dataframe tbody tr th:only-of-type {\n",
       "        vertical-align: middle;\n",
       "    }\n",
       "\n",
       "    .dataframe tbody tr th {\n",
       "        vertical-align: top;\n",
       "    }\n",
       "\n",
       "    .dataframe thead th {\n",
       "        text-align: right;\n",
       "    }\n",
       "</style>\n",
       "<table border=\"1\" class=\"dataframe\">\n",
       "  <thead>\n",
       "    <tr style=\"text-align: right;\">\n",
       "      <th></th>\n",
       "      <th>content</th>\n",
       "      <th>rating</th>\n",
       "    </tr>\n",
       "  </thead>\n",
       "  <tbody>\n",
       "    <tr>\n",
       "      <th>0</th>\n",
       "      <td>Finally the podcast for 1%ers</td>\n",
       "      <td>1</td>\n",
       "    </tr>\n",
       "    <tr>\n",
       "      <th>1</th>\n",
       "      <td>I love you Chris</td>\n",
       "      <td>1</td>\n",
       "    </tr>\n",
       "    <tr>\n",
       "      <th>2</th>\n",
       "      <td>So fetch.</td>\n",
       "      <td>1</td>\n",
       "    </tr>\n",
       "    <tr>\n",
       "      <th>3</th>\n",
       "      <td>GREAT HUNTING PODCAST</td>\n",
       "      <td>1</td>\n",
       "    </tr>\n",
       "    <tr>\n",
       "      <th>4</th>\n",
       "      <td>Can’t get enough!!</td>\n",
       "      <td>1</td>\n",
       "    </tr>\n",
       "  </tbody>\n",
       "</table>\n",
       "</div>"
      ],
      "text/plain": [
       "                         content  rating\n",
       "0  Finally the podcast for 1%ers       1\n",
       "1               I love you Chris       1\n",
       "2                      So fetch.       1\n",
       "3          GREAT HUNTING PODCAST       1\n",
       "4             Can’t get enough!!       1"
      ]
     },
     "execution_count": 32,
     "metadata": {},
     "output_type": "execute_result"
    }
   ],
   "source": [
    "df = df.drop(['title'], axis=1)\n",
    "df.head()"
   ]
  },
  {
   "cell_type": "code",
   "execution_count": 33,
   "metadata": {},
   "outputs": [
    {
     "data": {
      "image/png": "[encoded data removed]",
      "text/plain": [
       "<Figure size 600x400 with 1 Axes>"
      ]
     },
     "metadata": {},
     "output_type": "display_data"
    }
   ],
   "source": [
    "ax = df['rating'].value_counts().sort_index() \\\n",
    "    .plot(kind='bar',\n",
    "          title='Count of Reviews For each lapel',\n",
    "          figsize=(6, 4))\n",
    "ax.set_xlabel('Sentiment lapel')\n",
    "plt.show()"
   ]
  },
  {
   "cell_type": "code",
   "execution_count": 34,
   "metadata": {},
   "outputs": [],
   "source": [
    "df = df.rename(columns={'content': 'text', 'rating': 'label'})"
   ]
  },
  {
   "cell_type": "markdown",
   "metadata": {},
   "source": [
    "# Preprocessing text"
   ]
  },
  {
   "cell_type": "code",
   "execution_count": 35,
   "metadata": {},
   "outputs": [
    {
     "data": {
      "text/plain": [
       "'Finally the podcast for 1%ers'"
      ]
     },
     "execution_count": 35,
     "metadata": {},
     "output_type": "execute_result"
    }
   ],
   "source": [
    "text = df['text'][0]\n",
    "text"
   ]
  },
  {
   "cell_type": "code",
   "execution_count": 36,
   "metadata": {},
   "outputs": [
    {
     "name": "stderr",
     "output_type": "stream",
     "text": [
      "[nltk_data] Downloading package stopwords to C:\\Users\\mohamed\n",
      "[nltk_data]     mowina\\AppData\\Roaming\\nltk_data...\n",
      "[nltk_data]   Package stopwords is already up-to-date!\n"
     ]
    },
    {
     "data": {
      "text/plain": [
       "True"
      ]
     },
     "execution_count": 36,
     "metadata": {},
     "output_type": "execute_result"
    }
   ],
   "source": [
    "# Download the 'stopwords' resource\n",
    "nltk.download('stopwords')"
   ]
  },
  {
   "cell_type": "code",
   "execution_count": 37,
   "metadata": {},
   "outputs": [
    {
     "name": "stderr",
     "output_type": "stream",
     "text": [
      "[nltk_data] Downloading package wordnet to C:\\Users\\mohamed\n",
      "[nltk_data]     mowina\\AppData\\Roaming\\nltk_data...\n",
      "[nltk_data]   Package wordnet is already up-to-date!\n"
     ]
    },
    {
     "data": {
      "text/plain": [
       "True"
      ]
     },
     "execution_count": 37,
     "metadata": {},
     "output_type": "execute_result"
    }
   ],
   "source": [
    "nltk.download('wordnet')"
   ]
  },
  {
   "cell_type": "code",
   "execution_count": 38,
   "metadata": {},
   "outputs": [
    {
     "name": "stderr",
     "output_type": "stream",
     "text": [
      "[nltk_data] Downloading package wordnet to C:\\Users\\mohamed\n",
      "[nltk_data]     mowina\\AppData\\Roaming\\nltk_data...\n",
      "[nltk_data]   Package wordnet is already up-to-date!\n"
     ]
    },
    {
     "name": "stdout",
     "output_type": "stream",
     "text": [
      "Limitized text:  ['Finally', 'the', 'podcast', 'for', '1%ers']\n"
     ]
    }
   ],
   "source": [
    "import nltk\n",
    "from nltk.stem import WordNetLemmatizer\n",
    "\n",
    "nltk.download('wordnet')  # Download WordNet data\n",
    "\n",
    "w_tokenizer = nltk.tokenize.WhitespaceTokenizer()\n",
    "lemmatizer = WordNetLemmatizer()\n",
    "\n",
    "def lemmatize_text(text):\n",
    "    return [lemmatizer.lemmatize(w) for w in w_tokenizer.tokenize(text)]\n",
    "\n",
    "print('Limitized text: ', lemmatize_text(text))"
   ]
  },
  {
   "cell_type": "code",
   "execution_count": 39,
   "metadata": {},
   "outputs": [],
   "source": [
    "from transformers import BertTokenizer#\n",
    "#Tokenize using BERT tokenizer (optional, replace with your desired tokenizer)\n",
    "tokenizer = BertTokenizer.from_pretrained('bert-base-uncased')"
   ]
  },
  {
   "cell_type": "code",
   "execution_count": 45,
   "metadata": {},
   "outputs": [],
   "source": [
    "import emoji\n",
    "\n",
    "def emoji_to_text(input_text):\n",
    "    # Replace emojis with their textual representation\n",
    "    text_with_emojis = emoji.demojize(input_text)\n",
    "    return text_with_emojis"
   ]
  },
  {
   "cell_type": "code",
   "execution_count": 46,
   "metadata": {},
   "outputs": [
    {
     "name": "stdout",
     "output_type": "stream",
     "text": [
      "Text without emojies: Finally the podcast for 1%ers\n",
      "Original Text: Finally the podcast for 1%ers\n",
      "Lemmatized Text: finally the podcast for 1 % er ##s\n"
     ]
    }
   ],
   "source": [
    "from nltk.corpus import wordnet\n",
    "\n",
    "# Sample text\n",
    "text = df['text'][0]\n",
    "\n",
    "# Convert emoji to text\n",
    "text = emoji_to_text(text)\n",
    "print(\"Text without emojies:\", text)\n",
    "\n",
    "# Tokenize the text (split into words)\n",
    "words = tokenizer.tokenize(text)\n",
    "\n",
    "# Create a WordNet lemmatizer object\n",
    "lemmatizer = WordNetLemmatizer()\n",
    "\n",
    "# Lemmatize each word (convert to base form)\n",
    "lemmatized_words = []\n",
    "for word in words:\n",
    "  # Lowercase the word for consistency\n",
    "  lowercased_word = word.lower()\n",
    "  # Get the lemma (base form) using pos_tag to determine the word type (e.g., noun, verb)\n",
    "  lemma = lemmatizer.lemmatize(lowercased_word, pos='n')  # Use 'v' for verbs, etc. \n",
    "  lemmatized_words.append(lemma)\n",
    "\n",
    "# Join the lemmatized words back into a string\n",
    "lemmatized_text = \" \".join(lemmatized_words)\n",
    "\n",
    "print(\"Original Text:\", text)\n",
    "print(\"Lemmatized Text:\", lemmatized_text)\n"
   ]
  },
  {
   "cell_type": "code",
   "execution_count": 47,
   "metadata": {},
   "outputs": [],
   "source": [
    "# Load stop words\n",
    "stop_words = stopwords.words('english')\n",
    "\n",
    "lemmatizer = WordNetLemmatizer()\n",
    "\n",
    "def preprocess_text(text):\n",
    "  \"\"\"Applies preprocessing steps to the given text.\"\"\"\n",
    "  # Lowercase text\n",
    "  text = text.lower()\n",
    "\n",
    "  # Convert emoji to text\n",
    "  text = emoji_to_text(text)\n",
    "  \n",
    "  # Remove numbers (optional)\n",
    "  text = re.sub('[0-9]+', '', text)\n",
    "\n",
    "  # Remove special characters, punctuation including %, ., and ,\n",
    "  text = re.sub(r\"[^\\w\\s!@#\\$*\\(\\)_\\+=\\^:\\\\]\", \" \", text)  # Preserve negation words\n",
    "\n",
    "  # Lemmatization (preferred)\n",
    "  text = ' '.join([lemmatizer.lemmatize(word) for word in text.split()])\n",
    "\n",
    "  # Clean URLs\n",
    "  text = re.sub('((www\\.[^\\s]+)|(https?://[^\\s]+))',' ',text)\n",
    "\n",
    "  # Clean Emails\n",
    "  text = re.sub('@[^\\s]+', ' ', text)\n",
    "  \n",
    "  # Stop word removal (optional)\n",
    "  text = ' '.join([word for word in text.split() if word not in stop_words])\n",
    "\n",
    "  return text\n"
   ]
  },
  {
   "cell_type": "code",
   "execution_count": 48,
   "metadata": {},
   "outputs": [
    {
     "name": "stdout",
     "output_type": "stream",
     "text": [
      "Preprocessed text: finally podcast er\n",
      "BERT tokens: ['finally', 'podcast', 'er']\n"
     ]
    }
   ],
   "source": [
    "# Preprocess the sample text\n",
    "preprocessed_text = preprocess_text(text)\n",
    "print(\"Preprocessed text:\", preprocessed_text)\n",
    "\n",
    "tokens = tokenizer.tokenize(preprocessed_text)\n",
    "print(\"BERT tokens:\", tokens)"
   ]
  },
  {
   "cell_type": "code",
   "execution_count": 49,
   "metadata": {},
   "outputs": [
    {
     "data": {
      "text/html": [
       "<div>\n",
       "<style scoped>\n",
       "    .dataframe tbody tr th:only-of-type {\n",
       "        vertical-align: middle;\n",
       "    }\n",
       "\n",
       "    .dataframe tbody tr th {\n",
       "        vertical-align: top;\n",
       "    }\n",
       "\n",
       "    .dataframe thead th {\n",
       "        text-align: right;\n",
       "    }\n",
       "</style>\n",
       "<table border=\"1\" class=\"dataframe\">\n",
       "  <thead>\n",
       "    <tr style=\"text-align: right;\">\n",
       "      <th></th>\n",
       "      <th>text</th>\n",
       "      <th>label</th>\n",
       "      <th>tokens</th>\n",
       "      <th>input_ids</th>\n",
       "    </tr>\n",
       "  </thead>\n",
       "  <tbody>\n",
       "    <tr>\n",
       "      <th>0</th>\n",
       "      <td>finally podcast er</td>\n",
       "      <td>1</td>\n",
       "      <td>[finally, podcast, er]</td>\n",
       "      <td>[2633, 16110, 9413]</td>\n",
       "    </tr>\n",
       "    <tr>\n",
       "      <th>1</th>\n",
       "      <td>love chris</td>\n",
       "      <td>1</td>\n",
       "      <td>[love, chris]</td>\n",
       "      <td>[2293, 3782]</td>\n",
       "    </tr>\n",
       "    <tr>\n",
       "      <th>2</th>\n",
       "      <td>fetch</td>\n",
       "      <td>1</td>\n",
       "      <td>[fetch]</td>\n",
       "      <td>[18584]</td>\n",
       "    </tr>\n",
       "    <tr>\n",
       "      <th>3</th>\n",
       "      <td>great hunting podcast</td>\n",
       "      <td>1</td>\n",
       "      <td>[great, hunting, podcast]</td>\n",
       "      <td>[2307, 5933, 16110]</td>\n",
       "    </tr>\n",
       "    <tr>\n",
       "      <th>4</th>\n",
       "      <td>get enough!!</td>\n",
       "      <td>1</td>\n",
       "      <td>[get, enough, !, !]</td>\n",
       "      <td>[2131, 2438, 999, 999]</td>\n",
       "    </tr>\n",
       "  </tbody>\n",
       "</table>\n",
       "</div>"
      ],
      "text/plain": [
       "                    text  label                     tokens  \\\n",
       "0     finally podcast er      1     [finally, podcast, er]   \n",
       "1             love chris      1              [love, chris]   \n",
       "2                  fetch      1                    [fetch]   \n",
       "3  great hunting podcast      1  [great, hunting, podcast]   \n",
       "4           get enough!!      1        [get, enough, !, !]   \n",
       "\n",
       "                input_ids  \n",
       "0     [2633, 16110, 9413]  \n",
       "1            [2293, 3782]  \n",
       "2                 [18584]  \n",
       "3     [2307, 5933, 16110]  \n",
       "4  [2131, 2438, 999, 999]  "
      ]
     },
     "execution_count": 49,
     "metadata": {},
     "output_type": "execute_result"
    }
   ],
   "source": [
    "df['text'] = df['text'].astype(str)\n",
    "\n",
    "# Clean text\n",
    "df['text'] = df['text'].apply(lambda text: preprocess_text(text))\n",
    "\n",
    "# Tokenize the preprocessed text\n",
    "df['tokens'] = df['text'].apply(lambda text: tokenizer.tokenize(text))\n",
    "\n",
    "# Convert tokens to ids (vectorization)\n",
    "df['input_ids'] = df['tokens'].apply(lambda tokenized_text: tokenizer.convert_tokens_to_ids(tokenized_text))\n",
    "df.head()"
   ]
  },
  {
   "cell_type": "code",
   "execution_count": 50,
   "metadata": {},
   "outputs": [
    {
     "data": {
      "text/html": [
       "<div>\n",
       "<style scoped>\n",
       "    .dataframe tbody tr th:only-of-type {\n",
       "        vertical-align: middle;\n",
       "    }\n",
       "\n",
       "    .dataframe tbody tr th {\n",
       "        vertical-align: top;\n",
       "    }\n",
       "\n",
       "    .dataframe thead th {\n",
       "        text-align: right;\n",
       "    }\n",
       "</style>\n",
       "<table border=\"1\" class=\"dataframe\">\n",
       "  <thead>\n",
       "    <tr style=\"text-align: right;\">\n",
       "      <th></th>\n",
       "      <th>text</th>\n",
       "      <th>label</th>\n",
       "      <th>tokens</th>\n",
       "      <th>input_ids</th>\n",
       "    </tr>\n",
       "  </thead>\n",
       "  <tbody>\n",
       "    <tr>\n",
       "      <th>0</th>\n",
       "      <td>finally podcast er</td>\n",
       "      <td>1</td>\n",
       "      <td>[finally, podcast, er]</td>\n",
       "      <td>[2633, 16110, 9413]</td>\n",
       "    </tr>\n",
       "    <tr>\n",
       "      <th>1</th>\n",
       "      <td>love chris</td>\n",
       "      <td>1</td>\n",
       "      <td>[love, chris]</td>\n",
       "      <td>[2293, 3782]</td>\n",
       "    </tr>\n",
       "    <tr>\n",
       "      <th>2</th>\n",
       "      <td>fetch</td>\n",
       "      <td>1</td>\n",
       "      <td>[fetch]</td>\n",
       "      <td>[18584]</td>\n",
       "    </tr>\n",
       "    <tr>\n",
       "      <th>3</th>\n",
       "      <td>great hunting podcast</td>\n",
       "      <td>1</td>\n",
       "      <td>[great, hunting, podcast]</td>\n",
       "      <td>[2307, 5933, 16110]</td>\n",
       "    </tr>\n",
       "    <tr>\n",
       "      <th>4</th>\n",
       "      <td>get enough!!</td>\n",
       "      <td>1</td>\n",
       "      <td>[get, enough, !, !]</td>\n",
       "      <td>[2131, 2438, 999, 999]</td>\n",
       "    </tr>\n",
       "  </tbody>\n",
       "</table>\n",
       "</div>"
      ],
      "text/plain": [
       "                    text  label                     tokens  \\\n",
       "0     finally podcast er      1     [finally, podcast, er]   \n",
       "1             love chris      1              [love, chris]   \n",
       "2                  fetch      1                    [fetch]   \n",
       "3  great hunting podcast      1  [great, hunting, podcast]   \n",
       "4           get enough!!      1        [get, enough, !, !]   \n",
       "\n",
       "                input_ids  \n",
       "0     [2633, 16110, 9413]  \n",
       "1            [2293, 3782]  \n",
       "2                 [18584]  \n",
       "3     [2307, 5933, 16110]  \n",
       "4  [2131, 2438, 999, 999]  "
      ]
     },
     "execution_count": 50,
     "metadata": {},
     "output_type": "execute_result"
    }
   ],
   "source": [
    "df.head()"
   ]
  },
  {
   "cell_type": "code",
   "execution_count": 51,
   "metadata": {},
   "outputs": [
    {
     "data": {
      "text/html": [
       "<div>\n",
       "<style scoped>\n",
       "    .dataframe tbody tr th:only-of-type {\n",
       "        vertical-align: middle;\n",
       "    }\n",
       "\n",
       "    .dataframe tbody tr th {\n",
       "        vertical-align: top;\n",
       "    }\n",
       "\n",
       "    .dataframe thead th {\n",
       "        text-align: right;\n",
       "    }\n",
       "</style>\n",
       "<table border=\"1\" class=\"dataframe\">\n",
       "  <thead>\n",
       "    <tr style=\"text-align: right;\">\n",
       "      <th></th>\n",
       "      <th>input_ids</th>\n",
       "      <th>label</th>\n",
       "    </tr>\n",
       "  </thead>\n",
       "  <tbody>\n",
       "    <tr>\n",
       "      <th>0</th>\n",
       "      <td>[2633, 16110, 9413]</td>\n",
       "      <td>1</td>\n",
       "    </tr>\n",
       "    <tr>\n",
       "      <th>1</th>\n",
       "      <td>[2293, 3782]</td>\n",
       "      <td>1</td>\n",
       "    </tr>\n",
       "    <tr>\n",
       "      <th>2</th>\n",
       "      <td>[18584]</td>\n",
       "      <td>1</td>\n",
       "    </tr>\n",
       "    <tr>\n",
       "      <th>3</th>\n",
       "      <td>[2307, 5933, 16110]</td>\n",
       "      <td>1</td>\n",
       "    </tr>\n",
       "    <tr>\n",
       "      <th>4</th>\n",
       "      <td>[2131, 2438, 999, 999]</td>\n",
       "      <td>1</td>\n",
       "    </tr>\n",
       "  </tbody>\n",
       "</table>\n",
       "</div>"
      ],
      "text/plain": [
       "                input_ids  label\n",
       "0     [2633, 16110, 9413]      1\n",
       "1            [2293, 3782]      1\n",
       "2                 [18584]      1\n",
       "3     [2307, 5933, 16110]      1\n",
       "4  [2131, 2438, 999, 999]      1"
      ]
     },
     "execution_count": 51,
     "metadata": {},
     "output_type": "execute_result"
    }
   ],
   "source": [
    "df_cleaned = df[['input_ids', 'label']]\n",
    "df_cleaned.head()"
   ]
  },
  {
   "cell_type": "code",
   "execution_count": 52,
   "metadata": {},
   "outputs": [
    {
     "data": {
      "text/plain": [
       "array([1, 0], dtype=int64)"
      ]
     },
     "execution_count": 52,
     "metadata": {},
     "output_type": "execute_result"
    }
   ],
   "source": [
    "unique_labels = df_cleaned['label'].unique()\n",
    "unique_labels"
   ]
  },
  {
   "cell_type": "code",
   "execution_count": 53,
   "metadata": {},
   "outputs": [
    {
     "name": "stdout",
     "output_type": "stream",
     "text": [
      "<class 'pandas.core.frame.DataFrame'>\n",
      "RangeIndex: 1838284 entries, 0 to 1838283\n",
      "Data columns (total 2 columns):\n",
      " #   Column     Dtype \n",
      "---  ------     ----- \n",
      " 0   input_ids  object\n",
      " 1   label      int64 \n",
      "dtypes: int64(1), object(1)\n",
      "memory usage: 28.1+ MB\n"
     ]
    }
   ],
   "source": [
    "df_cleaned.info()"
   ]
  },
  {
   "cell_type": "markdown",
   "metadata": {},
   "source": [
    "# Build RNN model"
   ]
  },
  {
   "cell_type": "code",
   "execution_count": 54,
   "metadata": {},
   "outputs": [],
   "source": [
    "# Imports\n",
    "from tensorflow.keras.preprocessing.sequence import pad_sequences\n",
    "from tensorflow.keras.layers import Embedding, LSTM, Dense, Flatten, Dropout\n",
    "from tensorflow.keras.models import Sequential\n",
    "from sklearn.model_selection import train_test_split\n",
    "from tensorflow.keras.callbacks import EarlyStopping, ModelCheckpoint\n",
    "from tensorflow.keras.optimizers import Adam\n",
    "from tensorflow.keras.utils import to_categorical"
   ]
  },
  {
   "cell_type": "code",
   "execution_count": 55,
   "metadata": {},
   "outputs": [
    {
     "name": "stdout",
     "output_type": "stream",
     "text": [
      "[1 0]\n"
     ]
    }
   ],
   "source": [
    "# Drop null values\n",
    "df_cleaned.dropna(inplace=True)\n",
    "\n",
    "# Check unique values in the 'label' column\n",
    "unique_labels = df_cleaned['label'].unique()\n",
    "print(unique_labels)"
   ]
  },
  {
   "cell_type": "code",
   "execution_count": 56,
   "metadata": {},
   "outputs": [],
   "source": [
    "# Hyperparameters\n",
    "max_len = 200\n",
    "vocab_size = 50000\n",
    "embedding_dim = 128\n",
    "learning_rate = 0.001\n",
    "dropout_rate = 0.5\n",
    "num_lstm_units = 128\n",
    "num_dense_units = 64\n",
    "\n",
    "# Split data into train, validation, and test sets\n",
    "X = df_cleaned['input_ids']\n",
    "y = df_cleaned['label']\n",
    "X_train, X_test, y_train, y_test = train_test_split(X, y, test_size=0.2, random_state=42)\n",
    "X_train, X_val, y_train, y_val = train_test_split(X, y, test_size=0.1, random_state=42)\n"
   ]
  },
  {
   "cell_type": "code",
   "execution_count": 57,
   "metadata": {},
   "outputs": [],
   "source": [
    "# Convert input data to numpy arrays and pad sequences\n",
    "X_train_padded = pad_sequences(X_train.values, maxlen=max_len)\n",
    "X_val_padded = pad_sequences(X_val.values, maxlen=max_len)\n",
    "X_test_padded = pad_sequences(X_test.values, maxlen=max_len)"
   ]
  },
  {
   "cell_type": "code",
   "execution_count": 58,
   "metadata": {},
   "outputs": [
    {
     "name": "stdout",
     "output_type": "stream",
     "text": [
      "Epoch 1/20\n",
      "51702/51702 [==============================] - 1611s 31ms/step - loss: 0.2729 - accuracy: 0.8839 - val_loss: 0.2505 - val_accuracy: 0.8948\n",
      "Epoch 2/20\n",
      "51702/51702 [==============================] - 1625s 31ms/step - loss: 0.2458 - accuracy: 0.8981 - val_loss: 0.2453 - val_accuracy: 0.8981\n",
      "Epoch 3/20\n",
      "51702/51702 [==============================] - 1623s 31ms/step - loss: 0.2383 - accuracy: 0.9021 - val_loss: 0.2433 - val_accuracy: 0.8987\n",
      "Epoch 4/20\n",
      "51702/51702 [==============================] - 1607s 31ms/step - loss: 0.2349 - accuracy: 0.9041 - val_loss: 0.2426 - val_accuracy: 0.8996\n",
      "Epoch 5/20\n",
      "51702/51702 [==============================] - 1610s 31ms/step - loss: 0.2330 - accuracy: 0.9054 - val_loss: 0.2435 - val_accuracy: 0.8994\n",
      "Epoch 6/20\n",
      "51702/51702 [==============================] - 1606s 31ms/step - loss: 0.2319 - accuracy: 0.9059 - val_loss: 0.2450 - val_accuracy: 0.8995\n",
      "Epoch 7/20\n",
      "51701/51702 [============================>.] - ETA: 0s - loss: 0.2313 - accuracy: 0.9064Restoring model weights from the end of the best epoch: 4.\n",
      "51702/51702 [==============================] - 1597s 31ms/step - loss: 0.2313 - accuracy: 0.9064 - val_loss: 0.2461 - val_accuracy: 0.9002\n",
      "Epoch 7: early stopping\n"
     ]
    }
   ],
   "source": [
    "from keras.callbacks import EarlyStopping, ModelCheckpoint\n",
    "\n",
    "# Model definition\n",
    "model = Sequential()\n",
    "\n",
    "# Embedding layer\n",
    "model.add(Embedding(vocab_size, embedding_dim, input_length=max_len))\n",
    "\n",
    "# LSTM layer\n",
    "model.add(LSTM(num_lstm_units, dropout=dropout_rate))\n",
    "\n",
    "# Dense layers\n",
    "model.add(Dense(num_dense_units, activation='relu'))\n",
    "model.add(Dense(1, activation='sigmoid'))\n",
    "\n",
    "# Compile model\n",
    "model.compile(loss='binary_crossentropy', optimizer='adam', metrics=['accuracy'])\n",
    "\n",
    "# Early stopping to prevent overfitting\n",
    "early_stopping = EarlyStopping(monitor='val_loss', patience=3, verbose=1, restore_best_weights=True)\n",
    "\n",
    "# Model checkpoint to save the best model\n",
    "model_checkpoint = ModelCheckpoint(filepath='podcasts_rnn_model.h5', monitor='val_loss', save_best_only=True)\n",
    "\n",
    "# Train the model\n",
    "hist = model.fit(X_train_padded, y_train, epochs=20, batch_size=32, validation_data=(X_val_padded, y_val),\n",
    "                     callbacks=[early_stopping, model_checkpoint])\n"
   ]
  },
  {
   "cell_type": "code",
   "execution_count": 59,
   "metadata": {},
   "outputs": [
    {
     "name": "stdout",
     "output_type": "stream",
     "text": [
      "11490/11490 [==============================] - 141s 12ms/step - loss: 0.2309 - accuracy: 0.9059\n",
      "Test Loss: 0.23086220026016235\n",
      "Test Accuracy: 0.905896008014679\n"
     ]
    }
   ],
   "source": [
    "# Evaluate the model on test data\n",
    "test_loss, test_accuracy = model.evaluate(X_test_padded, y_test)\n",
    "print(\"Test Loss:\", test_loss)\n",
    "print(\"Test Accuracy:\", test_accuracy)"
   ]
  },
  {
   "cell_type": "code",
   "execution_count": 60,
   "metadata": {},
   "outputs": [
    {
     "name": "stdout",
     "output_type": "stream",
     "text": [
      "Model: \"sequential\"\n",
      "_________________________________________________________________\n",
      " Layer (type)                Output Shape              Param #   \n",
      "=================================================================\n",
      " embedding (Embedding)       (None, 200, 128)          6400000   \n",
      "                                                                 \n",
      " lstm (LSTM)                 (None, 128)               131584    \n",
      "                                                                 \n",
      " dense (Dense)               (None, 64)                8256      \n",
      "                                                                 \n",
      " dense_1 (Dense)             (None, 1)                 65        \n",
      "                                                                 \n",
      "=================================================================\n",
      "Total params: 6,539,905\n",
      "Trainable params: 6,539,905\n",
      "Non-trainable params: 0\n",
      "_________________________________________________________________\n"
     ]
    }
   ],
   "source": [
    "model.summary()"
   ]
  },
  {
   "cell_type": "code",
   "execution_count": 61,
   "metadata": {},
   "outputs": [
    {
     "data": {
      "image/png": "[encoded data removed]",
      "text/plain": [
       "<Figure size 1000x600 with 1 Axes>"
      ]
     },
     "metadata": {},
     "output_type": "display_data"
    }
   ],
   "source": [
    "# Create the figure and plot\n",
    "fig, ax = plt.subplots(figsize=(10, 6))  # Adjust figure size as needed\n",
    "ax.plot(hist.history['loss'], color='teal', label='Training Loss')  # Rename labels\n",
    "ax.plot(hist.history['val_loss'], color='orange', label='Validation Loss')\n",
    "\n",
    "# Customize plot elements\n",
    "ax.set_title('Loss Curves', fontsize=20)\n",
    "ax.set_xlabel('Epoch', fontsize=16)\n",
    "ax.set_ylabel('Loss', fontsize=16)\n",
    "ax.legend(loc='upper left', fontsize=14)\n",
    "ax.grid(True, linestyle='--', linewidth=0.5, color='gray', alpha=0.7)  # Add grid lines\n",
    "\n",
    "# Display the plot\n",
    "plt.tight_layout()  # Adjust layout for better spacing\n",
    "plt.show()\n"
   ]
  },
  {
   "cell_type": "markdown",
   "metadata": {},
   "source": [
    "## Implemintaion"
   ]
  },
  {
   "cell_type": "code",
   "execution_count": 62,
   "metadata": {},
   "outputs": [],
   "source": [
    "from tensorflow.keras.models import load_model\n",
    "\n",
    "# Path to your h5 model file\n",
    "model_path = 'podcasts_rnn_model.h5'\n",
    "\n",
    "# Load the model\n",
    "model = load_model(model_path)\n",
    "tokenizer = BertTokenizer.from_pretrained('bert-base-uncased')"
   ]
  },
  {
   "cell_type": "code",
   "execution_count": 63,
   "metadata": {},
   "outputs": [],
   "source": [
    "def predict_sentiment(text, model = model, tokenizer = tokenizer, max_len = max_len):\n",
    "  \"\"\"Predicts sentiment for a given text using the provided model and tokenizer.\n",
    "\n",
    "  Args:\n",
    "      text: The text to predict sentiment for (string).\n",
    "      model: The trained sentiment analysis model.\n",
    "      tokenizer: The tokenizer used to preprocess the text.\n",
    "      max_len: The maximum sequence length for the model (integer).\n",
    "\n",
    "  Returns:\n",
    "      A tuple containing:\n",
    "          - predicted_sentiment: The predicted sentiment score (float).\n",
    "          - sentiment_label: The sentiment label based on a threshold (string).\n",
    "  \"\"\"\n",
    "\n",
    "  # Preprocess the text\n",
    "  preprocessed_text = preprocess_text(text)  # Replace with your preprocessing function\n",
    "\n",
    "  # Tokenize the text\n",
    "  tokens = tokenizer.tokenize(preprocessed_text, padding='max_length', truncation=True)\n",
    "\n",
    "  # Convert tokens to IDs\n",
    "  input_ids = tokenizer.convert_tokens_to_ids(tokens)\n",
    "\n",
    "  # Pad the sequence (if model requires it)\n",
    "  padded_input = pad_sequences([input_ids], maxlen=max_len)\n",
    "\n",
    "  # Make the prediction\n",
    "  predicted_sentiment = model.predict(padded_input)[0][0]  # Assuming single output\n",
    "\n",
    "  # Define a threshold for sentiment classification (optional)\n",
    "  threshold = 0.5  # Adjust threshold based on your model's output range\n",
    "\n",
    "  sentiment_label = 'Positive' if predicted_sentiment > threshold else 'Negative'\n",
    "\n",
    "  return predicted_sentiment, sentiment_label\n",
    "\n"
   ]
  },
  {
   "cell_type": "code",
   "execution_count": null,
   "metadata": {},
   "outputs": [],
   "source": [
    "ex_text = input('Text:')"
   ]
  },
  {
   "cell_type": "code",
   "execution_count": 64,
   "metadata": {},
   "outputs": [
    {
     "name": "stderr",
     "output_type": "stream",
     "text": [
      "Keyword arguments {'padding': 'max_length', 'truncation': True} not recognized.\n"
     ]
    },
    {
     "name": "stdout",
     "output_type": "stream",
     "text": [
      "1/1 [==============================] - 1s 800ms/step\n"
     ]
    },
    {
     "data": {
      "text/plain": [
       "(0.8752216, 'Positive')"
      ]
     },
     "execution_count": 64,
     "metadata": {},
     "output_type": "execute_result"
    }
   ],
   "source": [
    "ex_text = \"The first one I bought was defective. The DVD didn't work at all. I purchased it from Electronics Express and when I contacted them they were wonderful. They gave me an RMA number right away, Fedex picked it up the next day and a new one arrived 1 week later. This one is just fine. I really love the clarity of the picture. My only complaint is that in DVD mode, the sound isn't loud enough. I have it in my RV and with the A/C running, I can barely hear it. I solved the problem by running an audio out jack from the TV to the input on the RV stereo speaker system. It's very lightweight and easy to move around and store. A bonus for the RV. The remote isn't great, but it works just fine and the video/audio jacks and antenna input are easy to get to as is the DVD player. All in all, it's a great deal for the price.\"\n",
    "predict_sentiment(text= ex_text, model= model, tokenizer= tokenizer, max_len= 200)"
   ]
  },
  {
   "cell_type": "code",
   "execution_count": null,
   "metadata": {},
   "outputs": [],
   "source": []
  }
 ],
 "metadata": {
  "kernelspec": {
   "display_name": "nngpu",
   "language": "python",
   "name": "python3"
  },
  "language_info": {
   "codemirror_mode": {
    "name": "ipython",
    "version": 3
   },
   "file_extension": ".py",
   "mimetype": "text/x-python",
   "name": "python",
   "nbconvert_exporter": "python",
   "pygments_lexer": "ipython3",
   "version": "3.10.14"
  }
 },
 "nbformat": 4,
 "nbformat_minor": 2
}
