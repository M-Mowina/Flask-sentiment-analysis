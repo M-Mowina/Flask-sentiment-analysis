{
 "cells": [
  {
   "cell_type": "markdown",
   "metadata": {},
   "source": [
    "# Imports"
   ]
  },
  {
   "cell_type": "code",
   "execution_count": 1,
   "metadata": {},
   "outputs": [
    {
     "name": "stderr",
     "output_type": "stream",
     "text": [
      "c:\\Users\\mohamed mowina\\anaconda3\\envs\\nngpu\\lib\\site-packages\\tqdm\\auto.py:21: TqdmWarning: IProgress not found. Please update jupyter and ipywidgets. See https://ipywidgets.readthedocs.io/en/stable/user_install.html\n",
      "  from .autonotebook import tqdm as notebook_tqdm\n"
     ]
    }
   ],
   "source": [
    "# DataFrame\n",
    "import pandas as pd \n",
    "\n",
    "# plotting\n",
    "import seaborn as sns\n",
    "import matplotlib.pyplot as plt\n",
    "\n",
    "# nltk\n",
    "import nltk\n",
    "from nltk.stem import WordNetLemmatizer\n",
    "from nltk.corpus import stopwords\n",
    "from nltk.tokenize import word_tokenize\n",
    "\n",
    "# Utility\n",
    "import pandas as pd\n",
    "import numpy as np \n",
    "import warnings\n",
    "warnings.filterwarnings('ignore')\n",
    "import re\n",
    "import string\n",
    "import pickle"
   ]
  },
  {
   "cell_type": "code",
   "execution_count": 2,
   "metadata": {},
   "outputs": [
    {
     "name": "stdout",
     "output_type": "stream",
     "text": [
      "[PhysicalDevice(name='/physical_device:CPU:0', device_type='CPU'), PhysicalDevice(name='/physical_device:GPU:0', device_type='GPU')]\n"
     ]
    }
   ],
   "source": [
    "print(tf.config.list_physical_devices())"
   ]
  },
  {
   "cell_type": "markdown",
   "metadata": {},
   "source": [
    "# Read data"
   ]
  },
  {
   "cell_type": "code",
   "execution_count": 22,
   "metadata": {},
   "outputs": [
    {
     "name": "stdout",
     "output_type": "stream",
     "text": [
      "(500000, 4)\n"
     ]
    }
   ],
   "source": [
    "df = pd.read_csv('amazon_sample_05m.csv')\n",
    "print(df.shape)"
   ]
  },
  {
   "cell_type": "code",
   "execution_count": 25,
   "metadata": {},
   "outputs": [],
   "source": [
    "df = df.drop(['review_title', 'Unnamed: 0'], axis=1)"
   ]
  },
  {
   "cell_type": "code",
   "execution_count": 5,
   "metadata": {},
   "outputs": [
    {
     "data": {
      "text/html": [
       "<div>\n",
       "<style scoped>\n",
       "    .dataframe tbody tr th:only-of-type {\n",
       "        vertical-align: middle;\n",
       "    }\n",
       "\n",
       "    .dataframe tbody tr th {\n",
       "        vertical-align: top;\n",
       "    }\n",
       "\n",
       "    .dataframe thead th {\n",
       "        text-align: right;\n",
       "    }\n",
       "</style>\n",
       "<table border=\"1\" class=\"dataframe\">\n",
       "  <thead>\n",
       "    <tr style=\"text-align: right;\">\n",
       "      <th></th>\n",
       "      <th>label</th>\n",
       "      <th>text</th>\n",
       "    </tr>\n",
       "  </thead>\n",
       "  <tbody>\n",
       "    <tr>\n",
       "      <th>0</th>\n",
       "      <td>2</td>\n",
       "      <td>I bought this to wear as a joke to my brothers...</td>\n",
       "    </tr>\n",
       "    <tr>\n",
       "      <th>1</th>\n",
       "      <td>1</td>\n",
       "      <td>Note: Partially similar review of Vol 1.They s...</td>\n",
       "    </tr>\n",
       "    <tr>\n",
       "      <th>2</th>\n",
       "      <td>2</td>\n",
       "      <td>This book is a great YA read. Realistic &amp; hear...</td>\n",
       "    </tr>\n",
       "    <tr>\n",
       "      <th>3</th>\n",
       "      <td>2</td>\n",
       "      <td>Well where to begin. I purchased the book and ...</td>\n",
       "    </tr>\n",
       "    <tr>\n",
       "      <th>4</th>\n",
       "      <td>1</td>\n",
       "      <td>I have to say, I've purchased many books in my...</td>\n",
       "    </tr>\n",
       "  </tbody>\n",
       "</table>\n",
       "</div>"
      ],
      "text/plain": [
       "   label                                               text\n",
       "0      2  I bought this to wear as a joke to my brothers...\n",
       "1      1  Note: Partially similar review of Vol 1.They s...\n",
       "2      2  This book is a great YA read. Realistic & hear...\n",
       "3      2  Well where to begin. I purchased the book and ...\n",
       "4      1  I have to say, I've purchased many books in my..."
      ]
     },
     "execution_count": 5,
     "metadata": {},
     "output_type": "execute_result"
    }
   ],
   "source": [
    "df.head()"
   ]
  },
  {
   "cell_type": "code",
   "execution_count": 6,
   "metadata": {},
   "outputs": [
    {
     "name": "stdout",
     "output_type": "stream",
     "text": [
      "0\n"
     ]
    }
   ],
   "source": [
    "# Check for null values after dropping\n",
    "print(np.sum(df.isnull().any(axis=1)))\n",
    "\n",
    "# Drop null values in the data frame\n",
    "df = df.dropna()"
   ]
  },
  {
   "cell_type": "code",
   "execution_count": 23,
   "metadata": {},
   "outputs": [
    {
     "data": {
      "image/png": "[encoded data removed]",
      "text/plain": [
       "<Figure size 600x400 with 1 Axes>"
      ]
     },
     "metadata": {},
     "output_type": "display_data"
    }
   ],
   "source": [
    "ax = df['label'].value_counts().sort_index() \\\n",
    "    .plot(kind='bar',\n",
    "          title='Count of Reviews For each lapel',\n",
    "          figsize=(6, 4))\n",
    "ax.set_xlabel('Sentiment lapel')\n",
    "plt.show()"
   ]
  },
  {
   "cell_type": "code",
   "execution_count": 26,
   "metadata": {},
   "outputs": [
    {
     "name": "stdout",
     "output_type": "stream",
     "text": [
      "<class 'pandas.core.frame.DataFrame'>\n",
      "RangeIndex: 500000 entries, 0 to 499999\n",
      "Data columns (total 2 columns):\n",
      " #   Column  Non-Null Count   Dtype \n",
      "---  ------  --------------   ----- \n",
      " 0   label   500000 non-null  int64 \n",
      " 1   text    500000 non-null  object\n",
      "dtypes: int64(1), object(1)\n",
      "memory usage: 7.6+ MB\n"
     ]
    }
   ],
   "source": [
    "df.info()"
   ]
  },
  {
   "cell_type": "code",
   "execution_count": 9,
   "metadata": {},
   "outputs": [
    {
     "name": "stdout",
     "output_type": "stream",
     "text": [
      "0\n"
     ]
    }
   ],
   "source": [
    "# Check for null values after dropping\n",
    "print(np.sum(df.isnull().any(axis=1)))\n",
    "\n",
    "# Drop null values in the data frame\n",
    "df = df.dropna()"
   ]
  },
  {
   "cell_type": "code",
   "execution_count": 11,
   "metadata": {},
   "outputs": [],
   "source": [
    "df = df.drop('review_title', axis=1)"
   ]
  },
  {
   "cell_type": "code",
   "execution_count": 12,
   "metadata": {},
   "outputs": [
    {
     "data": {
      "text/html": [
       "<div>\n",
       "<style scoped>\n",
       "    .dataframe tbody tr th:only-of-type {\n",
       "        vertical-align: middle;\n",
       "    }\n",
       "\n",
       "    .dataframe tbody tr th {\n",
       "        vertical-align: top;\n",
       "    }\n",
       "\n",
       "    .dataframe thead th {\n",
       "        text-align: right;\n",
       "    }\n",
       "</style>\n",
       "<table border=\"1\" class=\"dataframe\">\n",
       "  <thead>\n",
       "    <tr style=\"text-align: right;\">\n",
       "      <th></th>\n",
       "      <th>label</th>\n",
       "      <th>text</th>\n",
       "    </tr>\n",
       "  </thead>\n",
       "  <tbody>\n",
       "    <tr>\n",
       "      <th>0</th>\n",
       "      <td>2</td>\n",
       "      <td>I'm reading a lot of reviews saying that this ...</td>\n",
       "    </tr>\n",
       "    <tr>\n",
       "      <th>1</th>\n",
       "      <td>2</td>\n",
       "      <td>This soundtrack is my favorite music of all ti...</td>\n",
       "    </tr>\n",
       "    <tr>\n",
       "      <th>2</th>\n",
       "      <td>2</td>\n",
       "      <td>I truly like this soundtrack and I enjoy video...</td>\n",
       "    </tr>\n",
       "    <tr>\n",
       "      <th>3</th>\n",
       "      <td>2</td>\n",
       "      <td>If you've played the game, you know how divine...</td>\n",
       "    </tr>\n",
       "    <tr>\n",
       "      <th>4</th>\n",
       "      <td>2</td>\n",
       "      <td>I am quite sure any of you actually taking the...</td>\n",
       "    </tr>\n",
       "  </tbody>\n",
       "</table>\n",
       "</div>"
      ],
      "text/plain": [
       "   label                                               text\n",
       "0      2  I'm reading a lot of reviews saying that this ...\n",
       "1      2  This soundtrack is my favorite music of all ti...\n",
       "2      2  I truly like this soundtrack and I enjoy video...\n",
       "3      2  If you've played the game, you know how divine...\n",
       "4      2  I am quite sure any of you actually taking the..."
      ]
     },
     "execution_count": 12,
     "metadata": {},
     "output_type": "execute_result"
    }
   ],
   "source": [
    "df.head()"
   ]
  },
  {
   "cell_type": "code",
   "execution_count": 13,
   "metadata": {},
   "outputs": [
    {
     "name": "stdout",
     "output_type": "stream",
     "text": [
      "0\n"
     ]
    }
   ],
   "source": [
    "# Check for null values after dropping\n",
    "print(np.sum(df.isnull().any(axis=1)))\n",
    "\n",
    "# Drop null values in the data frame\n",
    "df = df.dropna()"
   ]
  },
  {
   "cell_type": "code",
   "execution_count": 27,
   "metadata": {},
   "outputs": [
    {
     "data": {
      "image/png": "[encoded data removed]",
      "text/plain": [
       "<Figure size 600x400 with 1 Axes>"
      ]
     },
     "metadata": {},
     "output_type": "display_data"
    }
   ],
   "source": [
    "ax = df['label'].value_counts().sort_index() \\\n",
    "    .plot(kind='bar',\n",
    "          title='Count of Reviews For each lapel',\n",
    "          figsize=(6, 4))\n",
    "ax.set_xlabel('Sentiment lapel')\n",
    "plt.show()"
   ]
  },
  {
   "cell_type": "code",
   "execution_count": 15,
   "metadata": {},
   "outputs": [
    {
     "name": "stdout",
     "output_type": "stream",
     "text": [
      "<class 'pandas.core.frame.DataFrame'>\n",
      "RangeIndex: 3599999 entries, 0 to 3599998\n",
      "Data columns (total 2 columns):\n",
      " #   Column  Dtype \n",
      "---  ------  ----- \n",
      " 0   label   int64 \n",
      " 1   text    object\n",
      "dtypes: int64(1), object(1)\n",
      "memory usage: 54.9+ MB\n"
     ]
    }
   ],
   "source": [
    "df.info()"
   ]
  },
  {
   "cell_type": "code",
   "execution_count": 28,
   "metadata": {},
   "outputs": [
    {
     "name": "stdout",
     "output_type": "stream",
     "text": [
      "0\n"
     ]
    }
   ],
   "source": [
    "# Check for null values after dropping\n",
    "print(np.sum(df.isnull().any(axis=1)))\n",
    "\n",
    "# Drop null values in the data frame\n",
    "df = df.dropna()"
   ]
  },
  {
   "cell_type": "markdown",
   "metadata": {},
   "source": [
    "# Preproceccing"
   ]
  },
  {
   "cell_type": "code",
   "execution_count": 29,
   "metadata": {},
   "outputs": [
    {
     "data": {
      "text/plain": [
       "'I was really hoping that this would work well with my Motorola Rarz Maxx. I could hear the other person well, but others could barely understand me from their end. After much research at Plantronics, they said that this product will not function correctly with modern Smart Phones. Even though it has a 2.5 to 3.5 mm converter cord, the required voltage is not present with Smart Phones, whether they are iPhones, Droid OS, or other. They need USB voltage from a computer, for example. Call Plantronics and they will verify this. Plantronics is not making an appropriate 3.5 mm wired headset.I could not find a good quality Bluetooth headset until my recent purchase of the Plantronics Voyager Pro HD. It is not 100%, but amazingly good. It is available from Amazon.'"
      ]
     },
     "execution_count": 29,
     "metadata": {},
     "output_type": "execute_result"
    }
   ],
   "source": [
    "text = df['text'][50]\n",
    "text"
   ]
  },
  {
   "cell_type": "code",
   "execution_count": 30,
   "metadata": {},
   "outputs": [
    {
     "name": "stderr",
     "output_type": "stream",
     "text": [
      "[nltk_data] Downloading package stopwords to C:\\Users\\mohamed\n",
      "[nltk_data]     mowina\\AppData\\Roaming\\nltk_data...\n",
      "[nltk_data]   Package stopwords is already up-to-date!\n"
     ]
    },
    {
     "data": {
      "text/plain": [
       "True"
      ]
     },
     "execution_count": 30,
     "metadata": {},
     "output_type": "execute_result"
    }
   ],
   "source": [
    "# Download the 'stopwords' resource\n",
    "nltk.download('stopwords')"
   ]
  },
  {
   "cell_type": "code",
   "execution_count": 31,
   "metadata": {},
   "outputs": [],
   "source": [
    "# Load stop words\n",
    "stop_words = stopwords.words('english')\n",
    "\n",
    "lemmatizer = WordNetLemmatizer()\n",
    "\n",
    "def preprocess_text(text):\n",
    "  \"\"\"Applies preprocessing steps to the given text.\"\"\"\n",
    "  # Lowercase text\n",
    "  text = text.lower()\n",
    "\n",
    "  # Remove numbers (optional)\n",
    "  text = re.sub('[0-9]+', '', text)\n",
    "\n",
    "  # Remove special characters, punctuation including %, ., and ,\n",
    "  text = re.sub(r\"[^\\w\\s!@#\\$*\\(\\)_\\+=\\^:\\\\]\", \" \", text)  # Preserve negation words\n",
    "\n",
    "  # Lemmatization (preferred)\n",
    "  text = ' '.join([lemmatizer.lemmatize(word) for word in text.split()])\n",
    "\n",
    "  # Clean URLs\n",
    "  text = re.sub('((www\\.[^\\s]+)|(https?://[^\\s]+))',' ',text)\n",
    "\n",
    "  # Clean Emails\n",
    "  text = re.sub('@[^\\s]+', ' ', text)\n",
    "  \n",
    "  # Stop word removal (optional)\n",
    "  text = ' '.join([word for word in text.split() if word not in stop_words])\n",
    "\n",
    "  return text"
   ]
  },
  {
   "cell_type": "code",
   "execution_count": 32,
   "metadata": {},
   "outputs": [
    {
     "name": "stdout",
     "output_type": "stream",
     "text": [
      "Preprocessed text: i wa realli hope that thi would work well with my motorola rarz maxx i could hear the other person well but other could bare understand me from their end after much research at plantron they said that thi product will not function correctli with modern smart phone even though it ha a to mm convert cord the requir voltag is not present with smart phone whether they are iphon droid os or other they need usb voltag from a comput for exampl call plantron and they will verifi thi plantron is not make an appropri mm wire headset i could not find a good qualiti bluetooth headset until my recent purchas of the plantron voyag pro hd it is not but amazingli good it is avail from amazon\n",
      "BERT tokens: ['i', 'wa', 'real', '##li', 'hope', 'that', 'th', '##i', 'would', 'work', 'well', 'with', 'my', 'motorola', 'ra', '##rz', 'max', '##x', 'i', 'could', 'hear', 'the', 'other', 'person', 'well', 'but', 'other', 'could', 'bare', 'understand', 'me', 'from', 'their', 'end', 'after', 'much', 'research', 'at', 'plant', '##ron', 'they', 'said', 'that', 'th', '##i', 'product', 'will', 'not', 'function', 'correct', '##li', 'with', 'modern', 'smart', 'phone', 'even', 'though', 'it', 'ha', 'a', 'to', 'mm', 'convert', 'cord', 'the', 're', '##qui', '##r', 'volta', '##g', 'is', 'not', 'present', 'with', 'smart', 'phone', 'whether', 'they', 'are', 'ip', '##hon', 'dr', '##oid', 'os', 'or', 'other', 'they', 'need', 'usb', 'volta', '##g', 'from', 'a', 'com', '##put', 'for', 'exam', '##pl', 'call', 'plant', '##ron', 'and', 'they', 'will', 've', '##ri', '##fi', 'th', '##i', 'plant', '##ron', 'is', 'not', 'make', 'an', 'app', '##rop', '##ri', 'mm', 'wire', 'heads', '##et', 'i', 'could', 'not', 'find', 'a', 'good', 'qu', '##ali', '##ti', 'blue', '##tooth', 'heads', '##et', 'until', 'my', 'recent', 'pu', '##rch', '##as', 'of', 'the', 'plant', '##ron', 'vo', '##ya', '##g', 'pro', 'hd', 'it', 'is', 'not', 'but', 'amazing', '##li', 'good', 'it', 'is', 'avail', 'from', 'amazon']\n"
     ]
    }
   ],
   "source": [
    "# Load stop words\n",
    "stop_words = stopwords.words('english')\n",
    "\n",
    "# Sample text\n",
    "text = df['text'][50]\n",
    "\n",
    "# Preprocess the sample text\n",
    "preprocessed_text = preprocess_text(text)\n",
    "print(\"Preprocessed text:\", preprocessed_text)\n",
    "\n",
    "# Tokenize using BERT tokenizer (optional, replace with your desired tokenizer)\n",
    "tokenizer = BertTokenizer.from_pretrained('bert-base-uncased')\n",
    "tokens = tokenizer.tokenize(preprocessed_text)\n",
    "print(\"BERT tokens:\", tokens)"
   ]
  },
  {
   "cell_type": "code",
   "execution_count": 33,
   "metadata": {},
   "outputs": [
    {
     "data": {
      "text/html": [
       "<div>\n",
       "<style scoped>\n",
       "    .dataframe tbody tr th:only-of-type {\n",
       "        vertical-align: middle;\n",
       "    }\n",
       "\n",
       "    .dataframe tbody tr th {\n",
       "        vertical-align: top;\n",
       "    }\n",
       "\n",
       "    .dataframe thead th {\n",
       "        text-align: right;\n",
       "    }\n",
       "</style>\n",
       "<table border=\"1\" class=\"dataframe\">\n",
       "  <thead>\n",
       "    <tr style=\"text-align: right;\">\n",
       "      <th></th>\n",
       "      <th>label</th>\n",
       "      <th>text</th>\n",
       "      <th>tokens</th>\n",
       "      <th>input_ids</th>\n",
       "    </tr>\n",
       "  </thead>\n",
       "  <tbody>\n",
       "    <tr>\n",
       "      <th>0</th>\n",
       "      <td>2</td>\n",
       "      <td>i bought thi to wear as a joke to my brother n...</td>\n",
       "      <td>[i, bought, th, ##i, to, wear, as, a, joke, to...</td>\n",
       "      <td>[1045, 4149, 16215, 2072, 2000, 4929, 2004, 10...</td>\n",
       "    </tr>\n",
       "    <tr>\n",
       "      <th>1</th>\n",
       "      <td>1</td>\n",
       "      <td>note partial similar review of vol they should...</td>\n",
       "      <td>[note, partial, similar, review, of, vol, they...</td>\n",
       "      <td>[3602, 7704, 2714, 3319, 1997, 5285, 2027, 232...</td>\n",
       "    </tr>\n",
       "    <tr>\n",
       "      <th>2</th>\n",
       "      <td>2</td>\n",
       "      <td>thi book is a great ya read realist heart warm...</td>\n",
       "      <td>[th, ##i, book, is, a, great, ya, read, real, ...</td>\n",
       "      <td>[16215, 2072, 2338, 2003, 1037, 2307, 8038, 31...</td>\n",
       "    </tr>\n",
       "    <tr>\n",
       "      <th>3</th>\n",
       "      <td>2</td>\n",
       "      <td>well where to begin i purchas the book and rea...</td>\n",
       "      <td>[well, where, to, begin, i, pu, ##rch, ##as, t...</td>\n",
       "      <td>[2092, 2073, 2000, 4088, 1045, 16405, 11140, 3...</td>\n",
       "    </tr>\n",
       "    <tr>\n",
       "      <th>4</th>\n",
       "      <td>1</td>\n",
       "      <td>i have to say i ve purchas mani book in my tim...</td>\n",
       "      <td>[i, have, to, say, i, ve, pu, ##rch, ##as, man...</td>\n",
       "      <td>[1045, 2031, 2000, 2360, 1045, 2310, 16405, 11...</td>\n",
       "    </tr>\n",
       "  </tbody>\n",
       "</table>\n",
       "</div>"
      ],
      "text/plain": [
       "   label                                               text  \\\n",
       "0      2  i bought thi to wear as a joke to my brother n...   \n",
       "1      1  note partial similar review of vol they should...   \n",
       "2      2  thi book is a great ya read realist heart warm...   \n",
       "3      2  well where to begin i purchas the book and rea...   \n",
       "4      1  i have to say i ve purchas mani book in my tim...   \n",
       "\n",
       "                                              tokens  \\\n",
       "0  [i, bought, th, ##i, to, wear, as, a, joke, to...   \n",
       "1  [note, partial, similar, review, of, vol, they...   \n",
       "2  [th, ##i, book, is, a, great, ya, read, real, ...   \n",
       "3  [well, where, to, begin, i, pu, ##rch, ##as, t...   \n",
       "4  [i, have, to, say, i, ve, pu, ##rch, ##as, man...   \n",
       "\n",
       "                                           input_ids  \n",
       "0  [1045, 4149, 16215, 2072, 2000, 4929, 2004, 10...  \n",
       "1  [3602, 7704, 2714, 3319, 1997, 5285, 2027, 232...  \n",
       "2  [16215, 2072, 2338, 2003, 1037, 2307, 8038, 31...  \n",
       "3  [2092, 2073, 2000, 4088, 1045, 16405, 11140, 3...  \n",
       "4  [1045, 2031, 2000, 2360, 1045, 2310, 16405, 11...  "
      ]
     },
     "execution_count": 33,
     "metadata": {},
     "output_type": "execute_result"
    }
   ],
   "source": [
    "df['text'] = df['text'].astype(str)\n",
    "\n",
    "# Clean text\n",
    "df['text'] = df['text'].apply(lambda text: preprocess_text(text))\n",
    "\n",
    "# Tokenize the preprocessed text\n",
    "df['tokens'] = df['text'].apply(lambda text: tokenizer.tokenize(text))\n",
    "\n",
    "# Convert tokens to ids (vectorization)\n",
    "df['input_ids'] = df['tokens'].apply(lambda tokenized_text: tokenizer.convert_tokens_to_ids(tokenized_text))\n",
    "df.head()"
   ]
  },
  {
   "cell_type": "code",
   "execution_count": 34,
   "metadata": {},
   "outputs": [
    {
     "data": {
      "text/plain": [
       "\" # Load from pickle file\\nloaded_df = pd.read_pickle('my_dataframe.pkl') \""
      ]
     },
     "execution_count": 34,
     "metadata": {},
     "output_type": "execute_result"
    }
   ],
   "source": [
    "# Save to pickle file\n",
    "df.to_pickle('amazon_t&i.pkl')\n",
    "\n",
    "\"\"\" # Load from pickle file\n",
    "loaded_df = pd.read_pickle('my_dataframe.pkl') \"\"\"\n"
   ]
  },
  {
   "cell_type": "code",
   "execution_count": 35,
   "metadata": {},
   "outputs": [
    {
     "data": {
      "text/html": [
       "<div>\n",
       "<style scoped>\n",
       "    .dataframe tbody tr th:only-of-type {\n",
       "        vertical-align: middle;\n",
       "    }\n",
       "\n",
       "    .dataframe tbody tr th {\n",
       "        vertical-align: top;\n",
       "    }\n",
       "\n",
       "    .dataframe thead th {\n",
       "        text-align: right;\n",
       "    }\n",
       "</style>\n",
       "<table border=\"1\" class=\"dataframe\">\n",
       "  <thead>\n",
       "    <tr style=\"text-align: right;\">\n",
       "      <th></th>\n",
       "      <th>label</th>\n",
       "      <th>text</th>\n",
       "      <th>tokens</th>\n",
       "      <th>input_ids</th>\n",
       "    </tr>\n",
       "  </thead>\n",
       "  <tbody>\n",
       "    <tr>\n",
       "      <th>0</th>\n",
       "      <td>2</td>\n",
       "      <td>i bought thi to wear as a joke to my brother n...</td>\n",
       "      <td>[i, bought, th, ##i, to, wear, as, a, joke, to...</td>\n",
       "      <td>[1045, 4149, 16215, 2072, 2000, 4929, 2004, 10...</td>\n",
       "    </tr>\n",
       "    <tr>\n",
       "      <th>1</th>\n",
       "      <td>1</td>\n",
       "      <td>note partial similar review of vol they should...</td>\n",
       "      <td>[note, partial, similar, review, of, vol, they...</td>\n",
       "      <td>[3602, 7704, 2714, 3319, 1997, 5285, 2027, 232...</td>\n",
       "    </tr>\n",
       "    <tr>\n",
       "      <th>2</th>\n",
       "      <td>2</td>\n",
       "      <td>thi book is a great ya read realist heart warm...</td>\n",
       "      <td>[th, ##i, book, is, a, great, ya, read, real, ...</td>\n",
       "      <td>[16215, 2072, 2338, 2003, 1037, 2307, 8038, 31...</td>\n",
       "    </tr>\n",
       "    <tr>\n",
       "      <th>3</th>\n",
       "      <td>2</td>\n",
       "      <td>well where to begin i purchas the book and rea...</td>\n",
       "      <td>[well, where, to, begin, i, pu, ##rch, ##as, t...</td>\n",
       "      <td>[2092, 2073, 2000, 4088, 1045, 16405, 11140, 3...</td>\n",
       "    </tr>\n",
       "    <tr>\n",
       "      <th>4</th>\n",
       "      <td>1</td>\n",
       "      <td>i have to say i ve purchas mani book in my tim...</td>\n",
       "      <td>[i, have, to, say, i, ve, pu, ##rch, ##as, man...</td>\n",
       "      <td>[1045, 2031, 2000, 2360, 1045, 2310, 16405, 11...</td>\n",
       "    </tr>\n",
       "  </tbody>\n",
       "</table>\n",
       "</div>"
      ],
      "text/plain": [
       "   label                                               text  \\\n",
       "0      2  i bought thi to wear as a joke to my brother n...   \n",
       "1      1  note partial similar review of vol they should...   \n",
       "2      2  thi book is a great ya read realist heart warm...   \n",
       "3      2  well where to begin i purchas the book and rea...   \n",
       "4      1  i have to say i ve purchas mani book in my tim...   \n",
       "\n",
       "                                              tokens  \\\n",
       "0  [i, bought, th, ##i, to, wear, as, a, joke, to...   \n",
       "1  [note, partial, similar, review, of, vol, they...   \n",
       "2  [th, ##i, book, is, a, great, ya, read, real, ...   \n",
       "3  [well, where, to, begin, i, pu, ##rch, ##as, t...   \n",
       "4  [i, have, to, say, i, ve, pu, ##rch, ##as, man...   \n",
       "\n",
       "                                           input_ids  \n",
       "0  [1045, 4149, 16215, 2072, 2000, 4929, 2004, 10...  \n",
       "1  [3602, 7704, 2714, 3319, 1997, 5285, 2027, 232...  \n",
       "2  [16215, 2072, 2338, 2003, 1037, 2307, 8038, 31...  \n",
       "3  [2092, 2073, 2000, 4088, 1045, 16405, 11140, 3...  \n",
       "4  [1045, 2031, 2000, 2360, 1045, 2310, 16405, 11...  "
      ]
     },
     "execution_count": 35,
     "metadata": {},
     "output_type": "execute_result"
    }
   ],
   "source": [
    "df.head()"
   ]
  },
  {
   "cell_type": "code",
   "execution_count": 36,
   "metadata": {},
   "outputs": [
    {
     "data": {
      "text/html": [
       "<div>\n",
       "<style scoped>\n",
       "    .dataframe tbody tr th:only-of-type {\n",
       "        vertical-align: middle;\n",
       "    }\n",
       "\n",
       "    .dataframe tbody tr th {\n",
       "        vertical-align: top;\n",
       "    }\n",
       "\n",
       "    .dataframe thead th {\n",
       "        text-align: right;\n",
       "    }\n",
       "</style>\n",
       "<table border=\"1\" class=\"dataframe\">\n",
       "  <thead>\n",
       "    <tr style=\"text-align: right;\">\n",
       "      <th></th>\n",
       "      <th>input_ids</th>\n",
       "      <th>label</th>\n",
       "    </tr>\n",
       "  </thead>\n",
       "  <tbody>\n",
       "    <tr>\n",
       "      <th>0</th>\n",
       "      <td>[1045, 4149, 16215, 2072, 2000, 4929, 2004, 10...</td>\n",
       "      <td>2</td>\n",
       "    </tr>\n",
       "    <tr>\n",
       "      <th>1</th>\n",
       "      <td>[3602, 7704, 2714, 3319, 1997, 5285, 2027, 232...</td>\n",
       "      <td>1</td>\n",
       "    </tr>\n",
       "    <tr>\n",
       "      <th>2</th>\n",
       "      <td>[16215, 2072, 2338, 2003, 1037, 2307, 8038, 31...</td>\n",
       "      <td>2</td>\n",
       "    </tr>\n",
       "    <tr>\n",
       "      <th>3</th>\n",
       "      <td>[2092, 2073, 2000, 4088, 1045, 16405, 11140, 3...</td>\n",
       "      <td>2</td>\n",
       "    </tr>\n",
       "    <tr>\n",
       "      <th>4</th>\n",
       "      <td>[1045, 2031, 2000, 2360, 1045, 2310, 16405, 11...</td>\n",
       "      <td>1</td>\n",
       "    </tr>\n",
       "  </tbody>\n",
       "</table>\n",
       "</div>"
      ],
      "text/plain": [
       "                                           input_ids  label\n",
       "0  [1045, 4149, 16215, 2072, 2000, 4929, 2004, 10...      2\n",
       "1  [3602, 7704, 2714, 3319, 1997, 5285, 2027, 232...      1\n",
       "2  [16215, 2072, 2338, 2003, 1037, 2307, 8038, 31...      2\n",
       "3  [2092, 2073, 2000, 4088, 1045, 16405, 11140, 3...      2\n",
       "4  [1045, 2031, 2000, 2360, 1045, 2310, 16405, 11...      1"
      ]
     },
     "execution_count": 36,
     "metadata": {},
     "output_type": "execute_result"
    }
   ],
   "source": [
    "df_cleaned = df[['input_ids', 'label']]\n",
    "df_cleaned.head()"
   ]
  },
  {
   "cell_type": "code",
   "execution_count": 37,
   "metadata": {},
   "outputs": [
    {
     "name": "stderr",
     "output_type": "stream",
     "text": [
      "C:\\Users\\mohamed mowina\\AppData\\Local\\Temp\\ipykernel_164140\\4120486255.py:2: SettingWithCopyWarning: \n",
      "A value is trying to be set on a copy of a slice from a DataFrame.\n",
      "Try using .loc[row_indexer,col_indexer] = value instead\n",
      "\n",
      "See the caveats in the documentation: https://pandas.pydata.org/pandas-docs/stable/user_guide/indexing.html#returning-a-view-versus-a-copy\n",
      "  df_cleaned['label'] = df_cleaned['label'].replace({1: 0, 2: 1})\n"
     ]
    }
   ],
   "source": [
    "# Update labels in the 'label' column\n",
    "df_cleaned['label'] = df_cleaned['label'].replace({1: 0, 2: 1})"
   ]
  },
  {
   "cell_type": "code",
   "execution_count": 38,
   "metadata": {},
   "outputs": [
    {
     "data": {
      "text/plain": [
       "array([1, 0], dtype=int64)"
      ]
     },
     "execution_count": 38,
     "metadata": {},
     "output_type": "execute_result"
    }
   ],
   "source": [
    "unique_labels = df_cleaned['label'].unique()\n",
    "unique_labels"
   ]
  },
  {
   "cell_type": "code",
   "execution_count": 39,
   "metadata": {},
   "outputs": [
    {
     "name": "stdout",
     "output_type": "stream",
     "text": [
      "<class 'pandas.core.frame.DataFrame'>\n",
      "RangeIndex: 500000 entries, 0 to 499999\n",
      "Data columns (total 2 columns):\n",
      " #   Column     Non-Null Count   Dtype \n",
      "---  ------     --------------   ----- \n",
      " 0   input_ids  500000 non-null  object\n",
      " 1   label      500000 non-null  int64 \n",
      "dtypes: int64(1), object(1)\n",
      "memory usage: 7.6+ MB\n"
     ]
    }
   ],
   "source": [
    "df_cleaned.info()"
   ]
  },
  {
   "cell_type": "code",
   "execution_count": 48,
   "metadata": {},
   "outputs": [],
   "source": [
    "from sklearn.metrics import confusion_matrix, classification_report"
   ]
  },
  {
   "cell_type": "code",
   "execution_count": 51,
   "metadata": {},
   "outputs": [],
   "source": [
    "def model_Evaluate(model):\n",
    "    \n",
    "    # Predict values for Test dataset\n",
    "    y_pred = model.predict(X_test_padded)\n",
    "\n",
    "    # Print the evaluation metrics for the dataset.\n",
    "    print(classification_report(y_test, y_pred))\n",
    "    \n",
    "    # Compute and plot the Confusion matrix\n",
    "    cf_matrix = confusion_matrix(y_test, y_pred)\n",
    "\n",
    "    categories  = ['Negative','Positive']\n",
    "    group_names = ['True Neg','False Pos', 'False Neg','True Pos']\n",
    "    group_percentages = ['{0:.2%}'.format(value) for value in cf_matrix.flatten() / np.sum(cf_matrix)]\n",
    "\n",
    "    labels = [f'{v1}\\n{v2}' for v1, v2 in zip(group_names,group_percentages)]\n",
    "    labels = np.asarray(labels).reshape(2,2)\n",
    "\n",
    "    sns.heatmap(cf_matrix, annot = labels, cmap = 'Reds',fmt = '',\n",
    "                xticklabels = categories, yticklabels = categories)\n",
    "\n",
    "    plt.xlabel(\"Predicted values\", fontdict = {'size':14}, labelpad = 10)\n",
    "    plt.ylabel(\"Actual values\"   , fontdict = {'size':14}, labelpad = 10)\n",
    "    plt.title (\"Confusion Matrix\", fontdict = {'size':18}, pad = 20)"
   ]
  },
  {
   "cell_type": "markdown",
   "metadata": {},
   "source": [
    "# Build RNN model"
   ]
  },
  {
   "cell_type": "code",
   "execution_count": 40,
   "metadata": {},
   "outputs": [],
   "source": [
    "# Imports\n",
    "from tensorflow.keras.preprocessing.sequence import pad_sequences\n",
    "from tensorflow.keras.layers import Embedding, LSTM, Dense, Flatten, Dropout\n",
    "from tensorflow.keras.models import Sequential\n",
    "from sklearn.model_selection import train_test_split\n",
    "from tensorflow.keras.callbacks import EarlyStopping, ModelCheckpoint\n",
    "from tensorflow.keras.optimizers import Adam\n",
    "from tensorflow.keras.utils import to_categorical"
   ]
  },
  {
   "cell_type": "code",
   "execution_count": 41,
   "metadata": {},
   "outputs": [
    {
     "name": "stdout",
     "output_type": "stream",
     "text": [
      "[1 0]\n"
     ]
    },
    {
     "name": "stderr",
     "output_type": "stream",
     "text": [
      "C:\\Users\\mohamed mowina\\AppData\\Local\\Temp\\ipykernel_164140\\678795036.py:2: SettingWithCopyWarning: \n",
      "A value is trying to be set on a copy of a slice from a DataFrame\n",
      "\n",
      "See the caveats in the documentation: https://pandas.pydata.org/pandas-docs/stable/user_guide/indexing.html#returning-a-view-versus-a-copy\n",
      "  df_cleaned.dropna(inplace=True)\n"
     ]
    }
   ],
   "source": [
    "# Drop null values\n",
    "df_cleaned.dropna(inplace=True)\n",
    "\n",
    "# Check unique values in the 'label' column\n",
    "unique_labels = df_cleaned['label'].unique()\n",
    "print(unique_labels)"
   ]
  },
  {
   "cell_type": "code",
   "execution_count": 42,
   "metadata": {},
   "outputs": [],
   "source": [
    "# Hyperparameters\n",
    "max_len = 200\n",
    "vocab_size = 50000\n",
    "embedding_dim = 128\n",
    "learning_rate = 0.001\n",
    "dropout_rate = 0.5\n",
    "num_lstm_units = 128\n",
    "num_dense_units = 64\n",
    "\n",
    "# Split data into train, validation, and test sets\n",
    "X = df_cleaned['input_ids']\n",
    "y = df_cleaned['label']\n",
    "X_train, X_test, y_train, y_test = train_test_split(X, y, test_size=0.2, random_state=42)\n",
    "X_train, X_val, y_train, y_val = train_test_split(X, y, test_size=0.1, random_state=42)\n"
   ]
  },
  {
   "cell_type": "code",
   "execution_count": 43,
   "metadata": {},
   "outputs": [],
   "source": [
    "# Convert input data to numpy arrays and pad sequences\n",
    "X_train_padded = pad_sequences(X_train.values, maxlen=max_len)\n",
    "X_val_padded = pad_sequences(X_val.values, maxlen=max_len)\n",
    "X_test_padded = pad_sequences(X_test.values, maxlen=max_len)"
   ]
  },
  {
   "cell_type": "markdown",
   "metadata": {},
   "source": [
    "## Model #2"
   ]
  },
  {
   "cell_type": "code",
   "execution_count": 44,
   "metadata": {},
   "outputs": [
    {
     "name": "stdout",
     "output_type": "stream",
     "text": [
      "Epoch 1/20\n",
      "14063/14063 [==============================] - 463s 32ms/step - loss: 0.2900 - accuracy: 0.8792 - val_loss: 0.2279 - val_accuracy: 0.9077\n",
      "Epoch 2/20\n",
      "14063/14063 [==============================] - 425s 30ms/step - loss: 0.2175 - accuracy: 0.9134 - val_loss: 0.2091 - val_accuracy: 0.9155\n",
      "Epoch 3/20\n",
      "14063/14063 [==============================] - 425s 30ms/step - loss: 0.1924 - accuracy: 0.9242 - val_loss: 0.2015 - val_accuracy: 0.9205\n",
      "Epoch 4/20\n",
      "14063/14063 [==============================] - 420s 30ms/step - loss: 0.1762 - accuracy: 0.9319 - val_loss: 0.1948 - val_accuracy: 0.9231\n",
      "Epoch 5/20\n",
      "14063/14063 [==============================] - 423s 30ms/step - loss: 0.1649 - accuracy: 0.9366 - val_loss: 0.1986 - val_accuracy: 0.9240\n",
      "Epoch 6/20\n",
      "14063/14063 [==============================] - 420s 30ms/step - loss: 0.1573 - accuracy: 0.9399 - val_loss: 0.2063 - val_accuracy: 0.9234\n",
      "Epoch 7/20\n",
      "14063/14063 [==============================] - ETA: 0s - loss: 0.1510 - accuracy: 0.9428Restoring model weights from the end of the best epoch: 4.\n",
      "14063/14063 [==============================] - 424s 30ms/step - loss: 0.1510 - accuracy: 0.9428 - val_loss: 0.2122 - val_accuracy: 0.9246\n",
      "Epoch 7: early stopping\n"
     ]
    }
   ],
   "source": [
    "from keras.callbacks import EarlyStopping, ModelCheckpoint\n",
    "\n",
    "# Model definition\n",
    "model2 = Sequential()\n",
    "\n",
    "# Embedding layer\n",
    "model2.add(Embedding(vocab_size, embedding_dim, input_length=max_len))\n",
    "\n",
    "# LSTM layer\n",
    "model2.add(LSTM(num_lstm_units, dropout=dropout_rate))\n",
    "\n",
    "# Dense layers\n",
    "model2.add(Dense(num_dense_units, activation='relu'))\n",
    "model2.add(Dense(1, activation='sigmoid'))\n",
    "\n",
    "# Compile model\n",
    "model2.compile(loss='binary_crossentropy', optimizer='adam', metrics=['accuracy'])\n",
    "\n",
    "# Early stopping to prevent overfitting\n",
    "early_stopping = EarlyStopping(monitor='val_loss', patience=3, verbose=1, restore_best_weights=True)\n",
    "\n",
    "# Model checkpoint to save the best model\n",
    "model_checkpoint = ModelCheckpoint(filepath='amazon_sample_model2.h5', monitor='val_loss', save_best_only=True)\n",
    "\n",
    "# Train the model\n",
    "hist = model2.fit(X_train_padded, y_train, epochs=20, batch_size=32, validation_data=(X_val_padded, y_val),\n",
    "                     callbacks=[early_stopping, model_checkpoint])\n"
   ]
  },
  {
   "cell_type": "code",
   "execution_count": 45,
   "metadata": {},
   "outputs": [
    {
     "name": "stdout",
     "output_type": "stream",
     "text": [
      "3125/3125 [==============================] - 40s 13ms/step - loss: 0.1676 - accuracy: 0.9357\n",
      "Test Loss: 0.16764774918556213\n",
      "Test Accuracy: 0.935699999332428\n"
     ]
    }
   ],
   "source": [
    "# Evaluate the model on test data\n",
    "test_loss, test_accuracy = model2.evaluate(X_test_padded, y_test)\n",
    "print(\"Test Loss:\", test_loss)\n",
    "print(\"Test Accuracy:\", test_accuracy)"
   ]
  },
  {
   "cell_type": "code",
   "execution_count": 46,
   "metadata": {},
   "outputs": [
    {
     "name": "stdout",
     "output_type": "stream",
     "text": [
      "Model: \"sequential\"\n",
      "_________________________________________________________________\n",
      " Layer (type)                Output Shape              Param #   \n",
      "=================================================================\n",
      " embedding (Embedding)       (None, 200, 128)          6400000   \n",
      "                                                                 \n",
      " lstm (LSTM)                 (None, 128)               131584    \n",
      "                                                                 \n",
      " dense (Dense)               (None, 64)                8256      \n",
      "                                                                 \n",
      " dense_1 (Dense)             (None, 1)                 65        \n",
      "                                                                 \n",
      "=================================================================\n",
      "Total params: 6,539,905\n",
      "Trainable params: 6,539,905\n",
      "Non-trainable params: 0\n",
      "_________________________________________________________________\n"
     ]
    }
   ],
   "source": [
    "model2.summary()"
   ]
  },
  {
   "cell_type": "code",
   "execution_count": 47,
   "metadata": {},
   "outputs": [
    {
     "data": {
      "image/png": "[encoded data removed]",
      "text/plain": [
       "<Figure size 1000x600 with 1 Axes>"
      ]
     },
     "metadata": {},
     "output_type": "display_data"
    }
   ],
   "source": [
    "# Create the figure and plot\n",
    "fig, ax = plt.subplots(figsize=(10, 6))  # Adjust figure size as needed\n",
    "ax.plot(hist.history['loss'], color='teal', label='Training Loss')  # Rename labels\n",
    "ax.plot(hist.history['val_loss'], color='orange', label='Validation Loss')\n",
    "\n",
    "# Customize plot elements\n",
    "ax.set_title('Loss Curves', fontsize=20)\n",
    "ax.set_xlabel('Epoch', fontsize=16)\n",
    "ax.set_ylabel('Loss', fontsize=16)\n",
    "ax.legend(loc='upper left', fontsize=14)\n",
    "ax.grid(True, linestyle='--', linewidth=0.5, color='gray', alpha=0.7)  # Add grid lines\n",
    "\n",
    "# Display the plot\n",
    "plt.tight_layout()  # Adjust layout for better spacing\n",
    "plt.show()\n"
   ]
  },
  {
   "cell_type": "code",
   "execution_count": null,
   "metadata": {},
   "outputs": [],
   "source": [
    "model_Evaluate(model2)"
   ]
  },
  {
   "cell_type": "markdown",
   "metadata": {},
   "source": [
    "## Implemintaion"
   ]
  },
  {
   "cell_type": "code",
   "execution_count": 53,
   "metadata": {},
   "outputs": [],
   "source": [
    "from tensorflow.keras.models import load_model\n",
    "\n",
    "# Path to your h5 model file\n",
    "model_path = 'amazon_sample_model2.h5'\n",
    "\n",
    "# Load the model\n",
    "model = load_model(model_path)\n",
    "tokenizer = BertTokenizer.from_pretrained('bert-base-uncased')"
   ]
  },
  {
   "cell_type": "code",
   "execution_count": 54,
   "metadata": {},
   "outputs": [],
   "source": [
    "def predict_sentiment(text, model = model, tokenizer = tokenizer, max_len = max_len):\n",
    "  \"\"\"Predicts sentiment for a given text using the provided model and tokenizer.\n",
    "\n",
    "  Args:\n",
    "      text: The text to predict sentiment for (string).\n",
    "      model: The trained sentiment analysis model.\n",
    "      tokenizer: The tokenizer used to preprocess the text.\n",
    "      max_len: The maximum sequence length for the model (integer).\n",
    "\n",
    "  Returns:\n",
    "      A tuple containing:\n",
    "          - predicted_sentiment: The predicted sentiment score (float).\n",
    "          - sentiment_label: The sentiment label based on a threshold (string).\n",
    "  \"\"\"\n",
    "\n",
    "  # Preprocess the text\n",
    "  preprocessed_text = preprocess_text(text)  # Replace with your preprocessing function\n",
    "\n",
    "  # Tokenize the text\n",
    "  tokens = tokenizer.tokenize(preprocessed_text, padding='max_length', truncation=True)\n",
    "\n",
    "  # Convert tokens to IDs\n",
    "  input_ids = tokenizer.convert_tokens_to_ids(tokens)\n",
    "\n",
    "  # Pad the sequence (if model requires it)\n",
    "  padded_input = pad_sequences([input_ids], maxlen=max_len)\n",
    "\n",
    "  # Make the prediction\n",
    "  predicted_sentiment = model.predict(padded_input)[0][0]  # Assuming single output\n",
    "\n",
    "  # Define a threshold for sentiment classification (optional)\n",
    "  threshold = 0.5  # Adjust threshold based on your model's output range\n",
    "\n",
    "  sentiment_label = 'Positive' if predicted_sentiment > threshold else 'Negative'\n",
    "\n",
    "  return predicted_sentiment, sentiment_label\n",
    "\n"
   ]
  },
  {
   "cell_type": "code",
   "execution_count": 57,
   "metadata": {},
   "outputs": [],
   "source": [
    "ex_text = input('Text:')"
   ]
  },
  {
   "cell_type": "code",
   "execution_count": 58,
   "metadata": {},
   "outputs": [
    {
     "name": "stderr",
     "output_type": "stream",
     "text": [
      "Keyword arguments {'padding': 'max_length', 'truncation': True} not recognized.\n"
     ]
    },
    {
     "name": "stdout",
     "output_type": "stream",
     "text": [
      "1/1 [==============================] - 0s 39ms/step\n"
     ]
    },
    {
     "data": {
      "text/plain": [
       "(0.017015614, 'Negative')"
      ]
     },
     "execution_count": 58,
     "metadata": {},
     "output_type": "execute_result"
    }
   ],
   "source": [
    "#ex_text = \"The first one I bought was defective. The DVD didn't work at all. I purchased it from Electronics Express and when I contacted them they were wonderful. They gave me an RMA number right away, Fedex picked it up the next day and a new one arrived 1 week later. This one is just fine. I really love the clarity of the picture. My only complaint is that in DVD mode, the sound isn't loud enough. I have it in my RV and with the A/C running, I can barely hear it. I solved the problem by running an audio out jack from the TV to the input on the RV stereo speaker system. It's very lightweight and easy to move around and store. A bonus for the RV. The remote isn't great, but it works just fine and the video/audio jacks and antenna input are easy to get to as is the DVD player. All in all, it's a great deal for the price.\"\n",
    "predict_sentiment(ex_text)"
   ]
  }
 ],
 "metadata": {
  "kernelspec": {
   "display_name": "Python 3 (ipykernel)",
   "language": "python",
   "name": "python3"
  },
  "language_info": {
   "codemirror_mode": {
    "name": "ipython",
    "version": 3
   },
   "file_extension": ".py",
   "mimetype": "text/x-python",
   "name": "python",
   "nbconvert_exporter": "python",
   "pygments_lexer": "ipython3",
   "version": "3.10.14"
  }
 },
 "nbformat": 4,
 "nbformat_minor": 4
}
